{
 "cells": [
  {
   "cell_type": "code",
   "execution_count": 0,
   "metadata": {
    "application/vnd.databricks.v1+cell": {
     "cellMetadata": {
      "byteLimit": 2048000,
      "rowLimit": 10000
     },
     "inputWidgets": {},
     "nuid": "784b60f0-70d6-4fdb-bc15-d178d23e690b",
     "showTitle": false,
     "tableResultSettingsMap": {},
     "title": ""
    }
   },
   "outputs": [
    {
     "output_type": "stream",
     "name": "stdout",
     "output_type": "stream",
     "text": [
      "Requirement already satisfied: langchain in /local_disk0/.ephemeral_nfs/envs/pythonEnv-58cc487c-5827-4492-b9e0-f283bd629913/lib/python3.11/site-packages (0.3.25)\nCollecting openai\n  Downloading openai-1.85.0-py3-none-any.whl.metadata (25 kB)\nRequirement already satisfied: langchain-core<1.0.0,>=0.3.58 in /local_disk0/.ephemeral_nfs/envs/pythonEnv-58cc487c-5827-4492-b9e0-f283bd629913/lib/python3.11/site-packages (from langchain) (0.3.64)\nRequirement already satisfied: langchain-text-splitters<1.0.0,>=0.3.8 in /local_disk0/.ephemeral_nfs/envs/pythonEnv-58cc487c-5827-4492-b9e0-f283bd629913/lib/python3.11/site-packages (from langchain) (0.3.8)\nRequirement already satisfied: langsmith<0.4,>=0.1.17 in /local_disk0/.ephemeral_nfs/envs/pythonEnv-58cc487c-5827-4492-b9e0-f283bd629913/lib/python3.11/site-packages (from langchain) (0.3.45)\nRequirement already satisfied: pydantic<3.0.0,>=2.7.4 in /local_disk0/.ephemeral_nfs/envs/pythonEnv-58cc487c-5827-4492-b9e0-f283bd629913/lib/python3.11/site-packages (from langchain) (2.11.5)\nRequirement already satisfied: SQLAlchemy<3,>=1.4 in /local_disk0/.ephemeral_nfs/envs/pythonEnv-58cc487c-5827-4492-b9e0-f283bd629913/lib/python3.11/site-packages (from langchain) (2.0.41)\nRequirement already satisfied: requests<3,>=2 in /databricks/python3/lib/python3.11/site-packages (from langchain) (2.31.0)\nRequirement already satisfied: PyYAML>=5.3 in /databricks/python3/lib/python3.11/site-packages (from langchain) (6.0)\nRequirement already satisfied: anyio<5,>=3.5.0 in /local_disk0/.ephemeral_nfs/envs/pythonEnv-58cc487c-5827-4492-b9e0-f283bd629913/lib/python3.11/site-packages (from openai) (4.9.0)\nRequirement already satisfied: distro<2,>=1.7.0 in /usr/lib/python3/dist-packages (from openai) (1.7.0)\nRequirement already satisfied: httpx<1,>=0.23.0 in /local_disk0/.ephemeral_nfs/envs/pythonEnv-58cc487c-5827-4492-b9e0-f283bd629913/lib/python3.11/site-packages (from openai) (0.28.1)\nCollecting jiter<1,>=0.4.0 (from openai)\n  Downloading jiter-0.10.0-cp311-cp311-manylinux_2_17_x86_64.manylinux2014_x86_64.whl.metadata (5.2 kB)\nRequirement already satisfied: sniffio in /local_disk0/.ephemeral_nfs/envs/pythonEnv-58cc487c-5827-4492-b9e0-f283bd629913/lib/python3.11/site-packages (from openai) (1.3.1)\nCollecting tqdm>4 (from openai)\n  Downloading tqdm-4.67.1-py3-none-any.whl.metadata (57 kB)\nRequirement already satisfied: typing-extensions<5,>=4.11 in /local_disk0/.ephemeral_nfs/envs/pythonEnv-58cc487c-5827-4492-b9e0-f283bd629913/lib/python3.11/site-packages (from openai) (4.14.0)\nRequirement already satisfied: idna>=2.8 in /databricks/python3/lib/python3.11/site-packages (from anyio<5,>=3.5.0->openai) (3.4)\nRequirement already satisfied: certifi in /databricks/python3/lib/python3.11/site-packages (from httpx<1,>=0.23.0->openai) (2023.7.22)\nRequirement already satisfied: httpcore==1.* in /local_disk0/.ephemeral_nfs/envs/pythonEnv-58cc487c-5827-4492-b9e0-f283bd629913/lib/python3.11/site-packages (from httpx<1,>=0.23.0->openai) (1.0.9)\nRequirement already satisfied: h11>=0.16 in /local_disk0/.ephemeral_nfs/envs/pythonEnv-58cc487c-5827-4492-b9e0-f283bd629913/lib/python3.11/site-packages (from httpcore==1.*->httpx<1,>=0.23.0->openai) (0.16.0)\nRequirement already satisfied: tenacity!=8.4.0,<10.0.0,>=8.1.0 in /databricks/python3/lib/python3.11/site-packages (from langchain-core<1.0.0,>=0.3.58->langchain) (8.2.2)\nRequirement already satisfied: jsonpatch<2.0,>=1.33 in /local_disk0/.ephemeral_nfs/envs/pythonEnv-58cc487c-5827-4492-b9e0-f283bd629913/lib/python3.11/site-packages (from langchain-core<1.0.0,>=0.3.58->langchain) (1.33)\nRequirement already satisfied: packaging<25,>=23.2 in /databricks/python3/lib/python3.11/site-packages (from langchain-core<1.0.0,>=0.3.58->langchain) (23.2)\nRequirement already satisfied: orjson<4.0.0,>=3.9.14 in /local_disk0/.ephemeral_nfs/envs/pythonEnv-58cc487c-5827-4492-b9e0-f283bd629913/lib/python3.11/site-packages (from langsmith<0.4,>=0.1.17->langchain) (3.10.18)\nRequirement already satisfied: requests-toolbelt<2.0.0,>=1.0.0 in /local_disk0/.ephemeral_nfs/envs/pythonEnv-58cc487c-5827-4492-b9e0-f283bd629913/lib/python3.11/site-packages (from langsmith<0.4,>=0.1.17->langchain) (1.0.0)\nRequirement already satisfied: zstandard<0.24.0,>=0.23.0 in /databricks/python3/lib/python3.11/site-packages (from langsmith<0.4,>=0.1.17->langchain) (0.23.0)\nRequirement already satisfied: annotated-types>=0.6.0 in /local_disk0/.ephemeral_nfs/envs/pythonEnv-58cc487c-5827-4492-b9e0-f283bd629913/lib/python3.11/site-packages (from pydantic<3.0.0,>=2.7.4->langchain) (0.7.0)\nRequirement already satisfied: pydantic-core==2.33.2 in /local_disk0/.ephemeral_nfs/envs/pythonEnv-58cc487c-5827-4492-b9e0-f283bd629913/lib/python3.11/site-packages (from pydantic<3.0.0,>=2.7.4->langchain) (2.33.2)\nRequirement already satisfied: typing-inspection>=0.4.0 in /local_disk0/.ephemeral_nfs/envs/pythonEnv-58cc487c-5827-4492-b9e0-f283bd629913/lib/python3.11/site-packages (from pydantic<3.0.0,>=2.7.4->langchain) (0.4.1)\nRequirement already satisfied: charset-normalizer<4,>=2 in /databricks/python3/lib/python3.11/site-packages (from requests<3,>=2->langchain) (2.0.4)\nRequirement already satisfied: urllib3<3,>=1.21.1 in /databricks/python3/lib/python3.11/site-packages (from requests<3,>=2->langchain) (1.26.16)\nRequirement already satisfied: greenlet>=1 in /local_disk0/.ephemeral_nfs/envs/pythonEnv-58cc487c-5827-4492-b9e0-f283bd629913/lib/python3.11/site-packages (from SQLAlchemy<3,>=1.4->langchain) (3.2.3)\nRequirement already satisfied: jsonpointer>=1.9 in /local_disk0/.ephemeral_nfs/envs/pythonEnv-58cc487c-5827-4492-b9e0-f283bd629913/lib/python3.11/site-packages (from jsonpatch<2.0,>=1.33->langchain-core<1.0.0,>=0.3.58->langchain) (3.0.0)\nDownloading openai-1.85.0-py3-none-any.whl (730 kB)\n\u001B[?25l   \u001B[90m━━━━━━━━━━━━━━━━━━━━━━━━━━━━━━━━━━━━━━━━\u001B[0m \u001B[32m0.0/730.2 kB\u001B[0m \u001B[31m?\u001B[0m eta \u001B[36m-:--:--\u001B[0m\n\u001B[2K   \u001B[90m━━━━━━━━━━━━━━━━━━━━━━━━━━━━━━━━━━━━━━━━\u001B[0m \u001B[32m730.2/730.2 kB\u001B[0m \u001B[31m23.9 MB/s\u001B[0m eta \u001B[36m0:00:00\u001B[0m\n\u001B[?25hDownloading jiter-0.10.0-cp311-cp311-manylinux_2_17_x86_64.manylinux2014_x86_64.whl (352 kB)\nDownloading tqdm-4.67.1-py3-none-any.whl (78 kB)\nInstalling collected packages: tqdm, jiter, openai\nSuccessfully installed jiter-0.10.0 openai-1.85.0 tqdm-4.67.1\n\u001B[43mNote: you may need to restart the kernel using %restart_python or dbutils.library.restartPython() to use updated packages.\u001B[0m\n"
     ]
    }
   ],
   "source": [
    "!pip install langchain openai"
   ]
  },
  {
   "cell_type": "code",
   "execution_count": 0,
   "metadata": {
    "application/vnd.databricks.v1+cell": {
     "cellMetadata": {
      "byteLimit": 2048000,
      "rowLimit": 10000
     },
     "inputWidgets": {},
     "nuid": "e5c81fb6-8ccb-4575-b636-d0b84a603f17",
     "showTitle": false,
     "tableResultSettingsMap": {},
     "title": ""
    }
   },
   "outputs": [],
   "source": [
    "dbutils.library.restartPython()"
   ]
  },
  {
   "cell_type": "markdown",
   "metadata": {
    "application/vnd.databricks.v1+cell": {
     "cellMetadata": {},
     "inputWidgets": {},
     "nuid": "02f32292-ffc4-44b6-bf07-406aa667a56c",
     "showTitle": false,
     "tableResultSettingsMap": {},
     "title": ""
    }
   },
   "source": [
    "Agent Use Cases:\n",
    "1. Lodging - Airbnb\n",
    "2. Lodging - Booking\n",
    "3. Lodging - Google\n",
    "4. Itinerary\n",
    "5. Location to Location\n",
    "\n",
    "Need to determine lodging first or itinerary first\n",
    "Location to location will always come last"
   ]
  },
  {
   "cell_type": "code",
   "execution_count": 0,
   "metadata": {
    "application/vnd.databricks.v1+cell": {
     "cellMetadata": {
      "byteLimit": 2048000,
      "rowLimit": 10000
     },
     "inputWidgets": {},
     "nuid": "6d8b277f-8c40-48a7-a6c3-6a0a8c215aaf",
     "showTitle": false,
     "tableResultSettingsMap": {},
     "title": ""
    }
   },
   "outputs": [
    {
     "output_type": "stream",
     "name": "stdout",
     "output_type": "stream",
     "text": [
      "An LLM agent is a software entity that utilizes a Large Language Model (LLM) to perform various tasks. To understand what an LLM agent is, let's break down the components:\n\n1. **Large Language Model (LLM)**: LLMs are a type of artificial intelligence (AI) model designed to process and generate human-like language. These models are trained on vast amounts of text data, enabling them to understand and respond to a wide range of inputs, from simple queries to complex tasks.\n\n2. **Agent**: In the context of computing and AI, an agent refers to a program or system that can perceive its environment, make decisions based on its perceptions, and act upon its environment to achieve certain goals. Agents can be simple or complex, ranging from a basic software bot that performs a routine task to sophisticated systems that can learn and adapt.\n\nWhen we talk about an **LLM agent**, we're referring to a software agent that leverages the capabilities of a Large Language Model. This means the agent can understand natural language inputs, generate human-like text or responses, and potentially perform tasks that require understanding or manipulating language.\n\nLLM agents can be designed for a variety of applications, including but not limited to:\n\n- **Customer Service**: Automating responses to customer inquiries, providing support, and helping with simple issues.\n- **Content Creation**: Generating articles, social media posts, or other forms of written content based on prompts or guidelines.\n- **Personal Assistants**: Helping users with tasks such as scheduling appointments, setting reminders, or providing information on demand.\n- **Language Translation**: Translating text or speech from one language to another, facilitating communication across language barriers.\n- **Research and Data Analysis**: Assisting in data analysis by summarizing large documents, identifying relevant information, or even generating insights based on the data analyzed.\n\nThe capabilities of an LLM agent depend on the specific LLM it is based on, as well as how it is programmed and integrated with other systems or data sources. For example, an LLM agent might be connected to a database to provide more accurate and up-to-date information or integrated with other AI models to perform multimodal tasks (e.g., generating images or processing voice commands).\n\nOverall, LLM agents represent a powerful application of AI technology, enabling more sophisticated and flexible automation in a wide range of domains.\n"
     ]
    }
   ],
   "source": [
    "from openai import OpenAI\n",
    "import os\n",
    "from IPython.display import display, Markdown as md\n",
    "\n",
    "# How to get your Databricks token: https://docs.databricks.com/en/dev-tools/auth/pat.html\n",
    "# DATABRICKS_TOKEN = os.environ.get('DATABRICKS_TOKEN')\n",
    "# Alternatively in a Databricks notebook you can use this:\n",
    "DATABRICKS_TOKEN = dbutils.notebook.entry_point.getDbutils().notebook().getContext().apiToken().get()\n",
    "\n",
    "client = OpenAI(\n",
    "    api_key=DATABRICKS_TOKEN,\n",
    "    base_url=\"https://dbc-853dca7e-4798.cloud.databricks.com/serving-endpoints\"\n",
    ")\n",
    "\n",
    "response = client.chat.completions.create(\n",
    "    model=\"Maverick-Hackathon\",\n",
    "    messages=[\n",
    "        {\n",
    "            \"role\": \"user\",\n",
    "            \"content\": \"What is an LLM agent?\"\n",
    "        }\n",
    "    ]\n",
    ")\n",
    "\n",
    "print(response.choices[0].message.content)"
   ]
  },
  {
   "cell_type": "code",
   "execution_count": 0,
   "metadata": {
    "application/vnd.databricks.v1+cell": {
     "cellMetadata": {
      "byteLimit": 2048000,
      "rowLimit": 10000
     },
     "inputWidgets": {},
     "nuid": "3ff41b37-d339-4050-97d4-d6a895309b1e",
     "showTitle": false,
     "tableResultSettingsMap": {},
     "title": ""
    }
   },
   "outputs": [],
   "source": [
    "from langchain.agents import initialize_agent, AgentType\n",
    "from langchain.chains import SequentialChain"
   ]
  },
  {
   "cell_type": "code",
   "execution_count": 0,
   "metadata": {
    "application/vnd.databricks.v1+cell": {
     "cellMetadata": {
      "byteLimit": 2048000,
      "rowLimit": 10000
     },
     "inputWidgets": {},
     "nuid": "e09dced6-3be4-4879-8fc6-6044cdf4e5ef",
     "showTitle": false,
     "tableResultSettingsMap": {},
     "title": ""
    }
   },
   "outputs": [],
   "source": [
    "def call_llm(system_prompt, inputs):\n",
    "    data = {\n",
    "        \"model\": \"Maverick-Hackathon\",\n",
    "        \"messages\": [\n",
    "            {\n",
    "                \"role\": \"system\",\n",
    "                \"content\": system_prompt\n",
    "            },\n",
    "            {\n",
    "                \"role\": \"user\",\n",
    "                \"content\": str(inputs)\n",
    "            }\n",
    "        ]\n",
    "    }\n",
    "    response = client.chat.completions.create(**data)\n",
    "    return response.choices[0].message.content"
   ]
  },
  {
   "cell_type": "code",
   "execution_count": 0,
   "metadata": {
    "application/vnd.databricks.v1+cell": {
     "cellMetadata": {
      "byteLimit": 2048000,
      "rowLimit": 10000
     },
     "inputWidgets": {},
     "nuid": "3908f0cc-5587-4fac-80d5-bef4a78572b3",
     "showTitle": false,
     "tableResultSettingsMap": {},
     "title": ""
    }
   },
   "outputs": [],
   "source": [
    "def generate_itinerary(accessibility_needs, destination, dates):\n",
    "    system_prompt = (\n",
    "        f\"You are a helpful travel agent. Your task is to generate a travel itinerary for a user with specific accessibility needs. \"\n",
    "        f\"The user may not have specific plans in mind. The user is arriving to {destination}. \"\n",
    "        f\"Date Context {dates if len(dates) > 0 else 'No dates provided'}. Accessibility Needs: {accessibility_needs}.\"\n",
    "    )\n",
    "    inputs = {\n",
    "        \"accessibility_needs\": accessibility_needs,\n",
    "        \"destination\": destination,\n",
    "        \"dates\": dates\n",
    "    }\n",
    "    return call_llm(system_prompt, inputs)\n",
    "\n",
    "def find_lodging(accessibility_needs, destination, dates):\n",
    "    system_prompt = (\n",
    "        \"You're a helpful travel agent. Your task is to find lodging options in a specific destination for a given date range that meet the user's accessibility needs. \"\n",
    "        \"Ensure that the lodging has the accomodations necessary for the user. If you cannot meet those requirements, then return 'No lodging with accomodations found'.\"\n",
    "    )\n",
    "    inputs = {\n",
    "        \"accessibility_needs\": accessibility_needs,\n",
    "        \"destination\": destination,\n",
    "        \"dates\": dates\n",
    "    }\n",
    "    return call_llm(system_prompt, inputs)\n",
    "\n",
    "def create_booking(lodging_info, accessibility_needs, user_info):\n",
    "    system_prompt = (\n",
    "        f\"Given the lodging information and trip context. Pre-fill the form for the user. \"\n",
    "        f\"Context: {lodging_info}; User Information: {user_info}.\"\n",
    "    )\n",
    "    inputs = {\n",
    "        \"lodging_info\": lodging_info,\n",
    "        \"accessibility_needs\": accessibility_needs,\n",
    "        \"user_info\": user_info\n",
    "    }\n",
    "    return call_llm(system_prompt, inputs)\n",
    "\n",
    "def generate_directions(origin, destination, accessibility_needs, date):\n",
    "    system_prompt = (\n",
    "        f\"Given that the user is going to {destination} on {date}, generate detailed, accessible directions from their home to the destination. \"\n",
    "        f\"Allow ample time and include step-by-step accessible options for the following needs: {accessibility_needs}.\"\n",
    "    )\n",
    "    inputs = {\n",
    "        \"origin\": origin,\n",
    "        \"destination\": destination,\n",
    "        \"accessibility_needs\": accessibility_needs,\n",
    "        \"date\": date\n",
    "    }\n",
    "    return call_llm(system_prompt, inputs)\n",
    "\n",
    "def generate_overall_plan(accessibility_needs, destination, dates, user_info, itinerary):\n",
    "    system_prompt = (\n",
    "        f\"Given the knowledge of the previous steps, combine the following into a comprehensive, accessible travel plan. \"\n",
    "        f\"Ensure accessibility is prioritized throughout. Be as detailed as possible. Provide each day as a separate response, so that way you can maximize the information provided to the user. \"\n",
    "        f\"Provide the location or lodging website URL. Lodging: {{lodging}}, Booking: {{booking}}, Directions: {{directions}}.\"\n",
    "    )\n",
    "    inputs = {\n",
    "        \"accessibility_needs\": accessibility_needs,\n",
    "        \"destination\": destination,\n",
    "        \"dates\": dates,\n",
    "        \"user_info\": user_info\n",
    "    }\n",
    "    return call_llm(system_prompt, inputs)"
   ]
  },
  {
   "cell_type": "code",
   "execution_count": 0,
   "metadata": {
    "application/vnd.databricks.v1+cell": {
     "cellMetadata": {
      "byteLimit": 2048000,
      "rowLimit": 10000
     },
     "inputWidgets": {},
     "nuid": "94b6a95b-39e8-498c-8220-f28dad5cfc54",
     "showTitle": false,
     "tableResultSettingsMap": {},
     "title": ""
    }
   },
   "outputs": [],
   "source": [
    "class Step:\n",
    "    def __init__(self, name, function, inputs, system_prompt):\n",
    "        self.name = name\n",
    "        self.function = function\n",
    "        self.inputs = inputs\n",
    "        self.system_prompt = system_prompt\n",
    "        self.output = None\n",
    "        self.input_keys = tuple(inputs)\n",
    "\n",
    "    def run(self):\n",
    "        # Implement the logic to execute the function with inputs\n",
    "        self.output = self.function(*self.inputs)\n",
    "        return self.output\n",
    "    \n",
    "class TravelAgent:\n",
    "    def __init__(self, accessibility_needs, destination, dates, user_info):\n",
    "        self.accessibility_needs = accessibility_needs\n",
    "        self.destination = destination\n",
    "        self.dates = dates\n",
    "        self.user_info = user_info\n",
    "        self.lodging_info = None\n",
    "        self.high_level_itineraries = []\n",
    "\n",
    "    def generate_itinerary_step(self, date):\n",
    "        return Step(\n",
    "            name=\"Generate Itinerary\",\n",
    "            function=generate_itinerary,\n",
    "            inputs=[self.accessibility_needs, self.destination, [date]],\n",
    "            system_prompt = \"You are a helpful travel agent. Your task is to generate a high-level travel itinerary for a user with specific accessibility needs for the date {date}. The user may not have specific plans in mind, so prioritize convenience and accessibility while viewing the key attractions of each destination. Include 1-2 activities and nearby meal options. The user is arriving to {self.destination}. Date Context {date}. Accessibility Needs: {self.accessibility_needs}.\"\n",
    "        )\n",
    "\n",
    "    def find_lodging_step(self):\n",
    "        return Step(\n",
    "            name=\"Find Lodging\",\n",
    "            function=find_lodging,\n",
    "            inputs=[self.accessibility_needs, self.destination, self.dates],\n",
    "            system_prompt = \"You're a helpful travel agent. Your task is to find lodging options in a specific destination for a given date range that meet the user's accessibility needs. Ensure that the lodging has the accommodations necessary for the user, if you cannot meet those requirements, then return 'No lodging with accommodations found'.\"\n",
    "        )\n",
    "\n",
    "    def create_booking_step(self):\n",
    "        return Step(\n",
    "            name=\"Create Booking\",\n",
    "            function=create_booking,\n",
    "            inputs=[self.lodging_info, self.accessibility_needs, self.user_info],\n",
    "            system_prompt = \"Given the lodging information and trip context. Pre-fill the form for the user. Context: {self.lodging_info}; User Information: {self.user_info}.\"\n",
    "        )\n",
    "\n",
    "    def generate_directions_step(self, start_location, end_location, date):\n",
    "        return Step(\n",
    "            name=\"Generate Directions\",\n",
    "            function=generate_directions,\n",
    "            inputs=[start_location, end_location, self.accessibility_needs, date],\n",
    "            system_prompt = \"Given that the user is going to {end_location} on {date}, generate detailed, accessible directions from {start_location} to the destination. Allow ample time and include step-by-step accessible options for the following needs: {self.accessibility_needs}.\"\n",
    "        )\n",
    "\n",
    "    def generate_overall_plan_step(self, date, itinerary):\n",
    "        return Step(\n",
    "            name=\"Generate Overall Plan\",\n",
    "            function=generate_overall_plan,\n",
    "            inputs=[self.accessibility_needs, self.destination, [date], self.user_info, itinerary],\n",
    "            system_prompt = \"Given the knowledge of the previous steps, combine the following into a comprehensive, accessible travel plan. Ensure accessibility is prioritized throughout. Be as detailed as possible. Provide each date as a separate response, so that way you can maximize the information provided to the user. Provide the location or lodging website URL. Lodging: {self.find_lodging_step().output}, Booking: {self.create_booking_step().output}.\"\n",
    "        )\n",
    "\n",
    "    def create_chain(self):\n",
    "        lodging_step = self.find_lodging_step()\n",
    "        self.lodging_info = lodging_step.run()  # Update lodging_info attribute\n",
    "        \n",
    "        booking_step = self.create_booking_step()\n",
    "        booking_output = booking_step.run()\n",
    "        \n",
    "        # Generate high-level itineraries for each day\n",
    "        for date in self.dates:\n",
    "            itinerary_step = self.generate_itinerary_step(date)\n",
    "            high_level_itinerary = itinerary_step.run()\n",
    "            self.high_level_itineraries.append((date, high_level_itinerary))\n",
    "        \n",
    "        overall_plans = []\n",
    "        for date, high_level_itinerary in self.high_level_itineraries:\n",
    "            overall_plan_step = self.generate_overall_plan_step(date, high_level_itinerary)\n",
    "            day_plan = overall_plan_step.run()\n",
    "            overall_plans.append(day_plan)\n",
    "        \n",
    "        return overall_plans"
   ]
  },
  {
   "cell_type": "code",
   "execution_count": 0,
   "metadata": {
    "application/vnd.databricks.v1+cell": {
     "cellMetadata": {
      "byteLimit": 2048000,
      "rowLimit": 10000
     },
     "inputWidgets": {},
     "nuid": "a2842cb8-a5f4-4141-ab91-4ee63f6b90cd",
     "showTitle": false,
     "tableResultSettingsMap": {},
     "title": ""
    }
   },
   "outputs": [
    {
     "output_type": "display_data",
     "data": {
      "text/html": [
       "<style scoped>\n",
       "  .table-result-container {\n",
       "    max-height: 300px;\n",
       "    overflow: auto;\n",
       "  }\n",
       "  table, th, td {\n",
       "    border: 1px solid black;\n",
       "    border-collapse: collapse;\n",
       "  }\n",
       "  th, td {\n",
       "    padding: 5px;\n",
       "  }\n",
       "  th {\n",
       "    text-align: left;\n",
       "  }\n",
       "</style><div class='table-result-container'><table class='table-result'><thead style='background-color: white'><tr><th>_1</th></tr></thead><tbody><tr><td>Based on your accessibility needs, I've created a comprehensive travel plan for your trip to Paris on June 10, 2025. I'll provide you with a detailed itinerary, day by day.\n",
       "\n",
       "**Day 1: June 10, 2025**\n",
       "\n",
       "### Lodging\n",
       "You will be staying at the **Novotel Paris Tour Eiffel** hotel, which is wheelchair accessible and has adapted rooms. The hotel is equipped with:\n",
       "- Ramps and elevators for easy navigation\n",
       "- Wide doors and corridors\n",
       "- Adapted bathrooms with grab bars and lowered sinks\n",
       "\n",
       "Lodging: [Novotel Paris Tour Eiffel](https://www.novotel.com/en/hotel-6816-novotel-paris-tour-eiffel/index.shtml)\n",
       "Booking: You can book your room through the Novotel website or through a booking platform like Booking.com. Ensure to request an adapted room.\n",
       "Directions: The hotel is located at 61 Quai de Grenelle, 75015 Paris. You can take the Metro Line 6 to Bir-Hakeim station, and it's a short walk from there.\n",
       "\n",
       "### Itinerary\n",
       "1. **Morning: Arrival and Check-in**\n",
       "   - Arrive at the Novotel Paris Tour Eiffel.\n",
       "   - Check-in and get familiar with the hotel's facilities.\n",
       "   - The hotel staff can provide visual aids or assistance if needed.\n",
       "\n",
       "2. **Afternoon: Eiffel Tower Visit**\n",
       "   - The Eiffel Tower is wheelchair accessible with ramps and elevators.\n",
       "   - You can book tickets in advance through the official Eiffel Tower website: [Eiffel Tower Tickets](https://www.toureiffel.paris/en/accessibility).\n",
       "   - The Eiffel Tower is about a 10-minute walk from the hotel.\n",
       "\n",
       "3. **Evening: Dinner at a Nearby Accessible Restaurant**\n",
       "   - **Le Jules Verne** is a Michelin-starred restaurant located on the second floor of the Eiffel Tower, with wheelchair access and stunning views.\n",
       "   - Booking: [Le Jules Verne](https://www.restaurantlejulesverne.com/en/reservation)\n",
       "   - Alternatively, you can explore other accessible dining options near the hotel.\n",
       "\n",
       "### Additional Tips\n",
       "- Ensure to carry your accessibility needs documentation or a doctor's note, if applicable, to facilitate any assistance required during your trip.\n",
       "- The Paris Metro has some accessible stations, but not all. Plan your route in advance using an accessibility-focused journey planner.\n",
       "\n",
       "For any further assistance or to make adjustments to this travel plan, please do not hesitate to contact me.</td></tr><tr><td>**Paris Travel Plan for John Doe (2025-06-11)**\n",
       "\n",
       "### Day 1: 2025-06-11\n",
       "\n",
       "#### Lodging\n",
       "You will be staying at the **Hotel Le Walt**, which is known for its wheelchair accessibility. The hotel has adapted rooms with roll-in showers and lowered sinks. \n",
       "- **Lodging:** Hotel Le Walt\n",
       "- **Booking:** You can book your stay through their official website: [Hotel Le Walt Booking](https://www.hotellewalt.com/en/reservation/)\n",
       "- **Directions:** Located at 8 Rue De L'Université, 75007 Paris. You can find directions on their website: [Hotel Le Walt Directions](https://www.hotellewalt.com/en/location/)\n",
       "\n",
       "#### Itinerary\n",
       "\n",
       "1. **Breakfast at Le Walt**\n",
       "   - Start your day with breakfast at the hotel. They offer a buffet that is accessible for guests with mobility impairments. Visual aids such as menus in braille are available upon request.\n",
       "\n",
       "2. **The Louvre Museum**\n",
       "   - After breakfast, head to the Louvre Museum. The museum is wheelchair accessible with ramps and elevators. Wheelchairs are also available for loan on a first-come, first-served basis.\n",
       "   - **Directions:** The Louvre is approximately a 15-minute walk from Hotel Le Walt. You can navigate using accessible pedestrian paths. For exact directions, you can use a GPS or visit the Louvre's website: [Louvre Museum Directions](https://www.louvre.fr/en/plan-louvre-museum)\n",
       "   - **Accessibility:** The Louvre provides various visual aids, including audio descriptions and tactile models for visually impaired visitors.\n",
       "\n",
       "3. **Lunch at Le Comptoir du Relais**\n",
       "   - For lunch, visit Le Comptoir du Relais, a restaurant that has wheelchair access. Although it's a bit narrow, the staff is accommodating to guests with disabilities.\n",
       "   - **Booking:** It's advisable to book in advance to ensure they can accommodate your accessibility needs: [Le Comptoir du Relais Booking](https://www.comptoir-relais.com/en/reservation)\n",
       "\n",
       "4. **Palais-Royal**\n",
       "   - After lunch, visit the Palais-Royal, which is fully wheelchair accessible. The complex includes beautiful gardens and contemporary art spaces.\n",
       "   - **Directions:** Palais-Royal is about a 10-minute walk from Le Comptoir du Relais. Use accessible pedestrian paths and follow GPS directions: [Palais-Royal Directions](https://www.domaine-palais-royal.fr/en/plan-your-visit/accessibility)\n",
       "\n",
       "5. **Dinner at Le Grand Vefour**\n",
       "   - For dinner, dine at Le Grand Vefour, a historic restaurant that is wheelchair accessible. It has a lift for guests with mobility impairments.\n",
       "   - **Booking:** Make sure to book in advance to ensure accessibility arrangements: [Le Grand Vefour Booking](https://www.grand-vefour.com/en/reservation)\n",
       "\n",
       "#### Accessibility Tips\n",
       "- Ensure you have your visual aids and any personal assistance devices with you.\n",
       "- Inform your lodging and restaurants/destinations about your accessibility needs in advance.\n",
       "\n",
       "#### Contact Information\n",
       "For any last-minute changes or assistance during your trip, you can contact John Doe at john.doe@example.com.\n",
       "\n",
       "Enjoy your accessible trip to Paris!</td></tr><tr><td>**Paris Travel Plan for John Doe (2025-06-12)**\n",
       "\n",
       "### Day 1: 2025-06-12\n",
       "\n",
       "#### Morning: Arrival and Check-in\n",
       "\n",
       "*   **Lodging:** Hotel Le Walt **** \n",
       "    *   **Booking:** [Book on Booking.com](https://www.booking.com/hotel/fr/hotel-le-walt.html?aid=304142;label=gen173nr-1DCAEogIAKAAmBmIAg2AADOYAQmyaHX6AQIYAQGYAQm4AQQgAQH4AQKIAgGoAgO4Aq3Rl5oGwAIB0gIKAFgAcABLw7Y;sid=8f49569f9d70e0c3f0a9ed0b9b0a455b;dest_id=-1456928;dest_type=city;dist=0;group_adults=2;group_children=0;hapos=1;hpos=1;no_rooms=1;room1=A%2CA;sb_price_type=total;sr_order=price;sr_pri_blocks=295%2C168%2Cfalse%2C295%2C168;srepoch=1710279558;srpvid=d3d4e8d3e351006b;type=total;ucfs=1&#hotelTmpl)\n",
       "    *   **Website:** [Hotel Le Walt Official Website](https://www.hotel-lewalt.com/)\n",
       "    *   **Directions:** Hotel Le Walt is located at 8 Rue De L'Amiral Hamelin, 75016 Paris, France. It is easily accessible by public transportation or taxi. The nearest metro station is Iéna (ligne 9), about a 5-minute walk away.\n",
       "*   **Accessibility Features:** \n",
       "    *   Wheelchair-accessible rooms and public areas\n",
       "    *   Elevator with voice announcements and Braille buttons\n",
       "    *   Visual aids available upon request\n",
       "\n",
       "#### Afternoon: Explore the Eiffel Tower\n",
       "\n",
       "*   **Eiffel Tower (Tour Eiffel)**\n",
       "    *   **Address:** 5 Avenue Anatole France, 75007 Paris, France\n",
       "    *   **Accessibility:** \n",
       "        *   Ramps and elevators for wheelchair access\n",
       "        *   Adapted restrooms\n",
       "        *   Audio descriptions and sign language interpretation available for guided tours (book in advance)\n",
       "    *   **Directions:** From Hotel Le Walt, take the metro (ligne 9) from Iéna to Trocadéro, then follow the signs to the Eiffel Tower. Approximately a 10-minute journey.\n",
       "\n",
       "#### Evening: Seine River Cruise\n",
       "\n",
       "*   **Bateaux-Mouches**\n",
       "    *   **Departure Point:** Pont de l'Alma, 75008 Paris, France\n",
       "    *   **Accessibility:** \n",
       "        *   Wheelchair-accessible boarding ramps\n",
       "        *   Adapted restrooms on board\n",
       "        *   Audio descriptions available in multiple languages\n",
       "    *   **Directions:** From the Eiffel Tower, walk towards Pont de l'Alma. The departure point is clearly marked. Approximately a 15-minute walk.\n",
       "\n",
       "For any changes or special requests, please contact John Doe at john.doe@example.com. We look forward to assisting you further.</td></tr></tbody></table></div>"
      ]
     },
     "metadata": {
      "application/vnd.databricks.v1+output": {
       "addedWidgets": {},
       "aggData": [],
       "aggError": "",
       "aggOverflow": false,
       "aggSchema": [],
       "aggSeriesLimitReached": false,
       "aggType": "",
       "arguments": {},
       "columnCustomDisplayInfos": {},
       "data": [
        [
         "Based on your accessibility needs, I've created a comprehensive travel plan for your trip to Paris on June 10, 2025. I'll provide you with a detailed itinerary, day by day.\n\n**Day 1: June 10, 2025**\n\n### Lodging\nYou will be staying at the **Novotel Paris Tour Eiffel** hotel, which is wheelchair accessible and has adapted rooms. The hotel is equipped with:\n- Ramps and elevators for easy navigation\n- Wide doors and corridors\n- Adapted bathrooms with grab bars and lowered sinks\n\nLodging: [Novotel Paris Tour Eiffel](https://www.novotel.com/en/hotel-6816-novotel-paris-tour-eiffel/index.shtml)\nBooking: You can book your room through the Novotel website or through a booking platform like Booking.com. Ensure to request an adapted room.\nDirections: The hotel is located at 61 Quai de Grenelle, 75015 Paris. You can take the Metro Line 6 to Bir-Hakeim station, and it's a short walk from there.\n\n### Itinerary\n1. **Morning: Arrival and Check-in**\n   - Arrive at the Novotel Paris Tour Eiffel.\n   - Check-in and get familiar with the hotel's facilities.\n   - The hotel staff can provide visual aids or assistance if needed.\n\n2. **Afternoon: Eiffel Tower Visit**\n   - The Eiffel Tower is wheelchair accessible with ramps and elevators.\n   - You can book tickets in advance through the official Eiffel Tower website: [Eiffel Tower Tickets](https://www.toureiffel.paris/en/accessibility).\n   - The Eiffel Tower is about a 10-minute walk from the hotel.\n\n3. **Evening: Dinner at a Nearby Accessible Restaurant**\n   - **Le Jules Verne** is a Michelin-starred restaurant located on the second floor of the Eiffel Tower, with wheelchair access and stunning views.\n   - Booking: [Le Jules Verne](https://www.restaurantlejulesverne.com/en/reservation)\n   - Alternatively, you can explore other accessible dining options near the hotel.\n\n### Additional Tips\n- Ensure to carry your accessibility needs documentation or a doctor's note, if applicable, to facilitate any assistance required during your trip.\n- The Paris Metro has some accessible stations, but not all. Plan your route in advance using an accessibility-focused journey planner.\n\nFor any further assistance or to make adjustments to this travel plan, please do not hesitate to contact me."
        ],
        [
         "**Paris Travel Plan for John Doe (2025-06-11)**\n\n### Day 1: 2025-06-11\n\n#### Lodging\nYou will be staying at the **Hotel Le Walt**, which is known for its wheelchair accessibility. The hotel has adapted rooms with roll-in showers and lowered sinks. \n- **Lodging:** Hotel Le Walt\n- **Booking:** You can book your stay through their official website: [Hotel Le Walt Booking](https://www.hotellewalt.com/en/reservation/)\n- **Directions:** Located at 8 Rue De L'Université, 75007 Paris. You can find directions on their website: [Hotel Le Walt Directions](https://www.hotellewalt.com/en/location/)\n\n#### Itinerary\n\n1. **Breakfast at Le Walt**\n   - Start your day with breakfast at the hotel. They offer a buffet that is accessible for guests with mobility impairments. Visual aids such as menus in braille are available upon request.\n\n2. **The Louvre Museum**\n   - After breakfast, head to the Louvre Museum. The museum is wheelchair accessible with ramps and elevators. Wheelchairs are also available for loan on a first-come, first-served basis.\n   - **Directions:** The Louvre is approximately a 15-minute walk from Hotel Le Walt. You can navigate using accessible pedestrian paths. For exact directions, you can use a GPS or visit the Louvre's website: [Louvre Museum Directions](https://www.louvre.fr/en/plan-louvre-museum)\n   - **Accessibility:** The Louvre provides various visual aids, including audio descriptions and tactile models for visually impaired visitors.\n\n3. **Lunch at Le Comptoir du Relais**\n   - For lunch, visit Le Comptoir du Relais, a restaurant that has wheelchair access. Although it's a bit narrow, the staff is accommodating to guests with disabilities.\n   - **Booking:** It's advisable to book in advance to ensure they can accommodate your accessibility needs: [Le Comptoir du Relais Booking](https://www.comptoir-relais.com/en/reservation)\n\n4. **Palais-Royal**\n   - After lunch, visit the Palais-Royal, which is fully wheelchair accessible. The complex includes beautiful gardens and contemporary art spaces.\n   - **Directions:** Palais-Royal is about a 10-minute walk from Le Comptoir du Relais. Use accessible pedestrian paths and follow GPS directions: [Palais-Royal Directions](https://www.domaine-palais-royal.fr/en/plan-your-visit/accessibility)\n\n5. **Dinner at Le Grand Vefour**\n   - For dinner, dine at Le Grand Vefour, a historic restaurant that is wheelchair accessible. It has a lift for guests with mobility impairments.\n   - **Booking:** Make sure to book in advance to ensure accessibility arrangements: [Le Grand Vefour Booking](https://www.grand-vefour.com/en/reservation)\n\n#### Accessibility Tips\n- Ensure you have your visual aids and any personal assistance devices with you.\n- Inform your lodging and restaurants/destinations about your accessibility needs in advance.\n\n#### Contact Information\nFor any last-minute changes or assistance during your trip, you can contact John Doe at john.doe@example.com.\n\nEnjoy your accessible trip to Paris!"
        ],
        [
         "**Paris Travel Plan for John Doe (2025-06-12)**\n\n### Day 1: 2025-06-12\n\n#### Morning: Arrival and Check-in\n\n*   **Lodging:** Hotel Le Walt **** \n    *   **Booking:** [Book on Booking.com](https://www.booking.com/hotel/fr/hotel-le-walt.html?aid=304142;label=gen173nr-1DCAEogIAKAAmBmIAg2AADOYAQmyaHX6AQIYAQGYAQm4AQQgAQH4AQKIAgGoAgO4Aq3Rl5oGwAIB0gIKAFgAcABLw7Y;sid=8f49569f9d70e0c3f0a9ed0b9b0a455b;dest_id=-1456928;dest_type=city;dist=0;group_adults=2;group_children=0;hapos=1;hpos=1;no_rooms=1;room1=A%2CA;sb_price_type=total;sr_order=price;sr_pri_blocks=295%2C168%2Cfalse%2C295%2C168;srepoch=1710279558;srpvid=d3d4e8d3e351006b;type=total;ucfs=1&#hotelTmpl)\n    *   **Website:** [Hotel Le Walt Official Website](https://www.hotel-lewalt.com/)\n    *   **Directions:** Hotel Le Walt is located at 8 Rue De L'Amiral Hamelin, 75016 Paris, France. It is easily accessible by public transportation or taxi. The nearest metro station is Iéna (ligne 9), about a 5-minute walk away.\n*   **Accessibility Features:** \n    *   Wheelchair-accessible rooms and public areas\n    *   Elevator with voice announcements and Braille buttons\n    *   Visual aids available upon request\n\n#### Afternoon: Explore the Eiffel Tower\n\n*   **Eiffel Tower (Tour Eiffel)**\n    *   **Address:** 5 Avenue Anatole France, 75007 Paris, France\n    *   **Accessibility:** \n        *   Ramps and elevators for wheelchair access\n        *   Adapted restrooms\n        *   Audio descriptions and sign language interpretation available for guided tours (book in advance)\n    *   **Directions:** From Hotel Le Walt, take the metro (ligne 9) from Iéna to Trocadéro, then follow the signs to the Eiffel Tower. Approximately a 10-minute journey.\n\n#### Evening: Seine River Cruise\n\n*   **Bateaux-Mouches**\n    *   **Departure Point:** Pont de l'Alma, 75008 Paris, France\n    *   **Accessibility:** \n        *   Wheelchair-accessible boarding ramps\n        *   Adapted restrooms on board\n        *   Audio descriptions available in multiple languages\n    *   **Directions:** From the Eiffel Tower, walk towards Pont de l'Alma. The departure point is clearly marked. Approximately a 15-minute walk.\n\nFor any changes or special requests, please contact John Doe at john.doe@example.com. We look forward to assisting you further."
        ]
       ],
       "datasetInfos": [],
       "dbfsResultPath": null,
       "isJsonSchema": true,
       "metadata": {},
       "overflow": false,
       "plotOptions": {
        "customPlotOptions": {},
        "displayType": "table",
        "pivotAggregation": null,
        "pivotColumns": null,
        "xColumns": null,
        "yColumns": null
       },
       "removedWidgets": [],
       "schema": [
        {
         "metadata": "{}",
         "name": "_1",
         "type": "\"string\""
        }
       ],
       "type": "table"
      }
     },
     "output_type": "display_data"
    }
   ],
   "source": [
    "# Example usage\n",
    "accessibility_needs = \"wheelchair access, visual aids\"\n",
    "destination = \"Paris\"\n",
    "dates = [\"2025-06-10\", \"2025-06-11\", \"2025-06-12\"]\n",
    "user_info = {\"name\": \"John Doe\", \"contact\": \"john.doe@example.com\"}\n",
    "\n",
    "travel_agent = TravelAgent(accessibility_needs, destination, dates, user_info)\n",
    "travel_chain = travel_agent.create_chain()\n",
    "md('\\n'.join(item for item in travel_chain))"
   ]
  },
  {
   "cell_type": "code",
   "execution_count": 0,
   "metadata": {
    "application/vnd.databricks.v1+cell": {
     "cellMetadata": {
      "byteLimit": 2048000,
      "rowLimit": 10000
     },
     "inputWidgets": {},
     "nuid": "c10d012b-3d82-436e-b38f-5c742ed62259",
     "showTitle": false,
     "tableResultSettingsMap": {},
     "title": ""
    }
   },
   "outputs": [
    {
     "output_type": "execute_result",
     "data": {
      "text/markdown": [
       "Based on your accessibility needs, I've created a comprehensive travel plan for your trip to Paris on June 10, 2025. I'll provide you with a detailed itinerary, day by day.\n",
       "\n",
       "**Day 1: June 10, 2025**\n",
       "\n",
       "### Lodging\n",
       "You will be staying at the **Novotel Paris Tour Eiffel** hotel, which is wheelchair accessible and has adapted rooms. The hotel is equipped with:\n",
       "- Ramps and elevators for easy navigation\n",
       "- Wide doors and corridors\n",
       "- Adapted bathrooms with grab bars and lowered sinks\n",
       "\n",
       "Lodging: [Novotel Paris Tour Eiffel](https://www.novotel.com/en/hotel-6816-novotel-paris-tour-eiffel/index.shtml)\n",
       "Booking: You can book your room through the Novotel website or through a booking platform like Booking.com. Ensure to request an adapted room.\n",
       "Directions: The hotel is located at 61 Quai de Grenelle, 75015 Paris. You can take the Metro Line 6 to Bir-Hakeim station, and it's a short walk from there.\n",
       "\n",
       "### Itinerary\n",
       "1. **Morning: Arrival and Check-in**\n",
       "   - Arrive at the Novotel Paris Tour Eiffel.\n",
       "   - Check-in and get familiar with the hotel's facilities.\n",
       "   - The hotel staff can provide visual aids or assistance if needed.\n",
       "\n",
       "2. **Afternoon: Eiffel Tower Visit**\n",
       "   - The Eiffel Tower is wheelchair accessible with ramps and elevators.\n",
       "   - You can book tickets in advance through the official Eiffel Tower website: [Eiffel Tower Tickets](https://www.toureiffel.paris/en/accessibility).\n",
       "   - The Eiffel Tower is about a 10-minute walk from the hotel.\n",
       "\n",
       "3. **Evening: Dinner at a Nearby Accessible Restaurant**\n",
       "   - **Le Jules Verne** is a Michelin-starred restaurant located on the second floor of the Eiffel Tower, with wheelchair access and stunning views.\n",
       "   - Booking: [Le Jules Verne](https://www.restaurantlejulesverne.com/en/reservation)\n",
       "   - Alternatively, you can explore other accessible dining options near the hotel.\n",
       "\n",
       "### Additional Tips\n",
       "- Ensure to carry your accessibility needs documentation or a doctor's note, if applicable, to facilitate any assistance required during your trip.\n",
       "- The Paris Metro has some accessible stations, but not all. Plan your route in advance using an accessibility-focused journey planner.\n",
       "\n",
       "For any further assistance or to make adjustments to this travel plan, please do not hesitate to contact me.\n",
       "**Paris Travel Plan for John Doe (2025-06-11)**\n",
       "\n",
       "### Day 1: 2025-06-11\n",
       "\n",
       "#### Lodging\n",
       "You will be staying at the **Hotel Le Walt**, which is known for its wheelchair accessibility. The hotel has adapted rooms with roll-in showers and lowered sinks. \n",
       "- **Lodging:** Hotel Le Walt\n",
       "- **Booking:** You can book your stay through their official website: [Hotel Le Walt Booking](https://www.hotellewalt.com/en/reservation/)\n",
       "- **Directions:** Located at 8 Rue De L'Université, 75007 Paris. You can find directions on their website: [Hotel Le Walt Directions](https://www.hotellewalt.com/en/location/)\n",
       "\n",
       "#### Itinerary\n",
       "\n",
       "1. **Breakfast at Le Walt**\n",
       "   - Start your day with breakfast at the hotel. They offer a buffet that is accessible for guests with mobility impairments. Visual aids such as menus in braille are available upon request.\n",
       "\n",
       "2. **The Louvre Museum**\n",
       "   - After breakfast, head to the Louvre Museum. The museum is wheelchair accessible with ramps and elevators. Wheelchairs are also available for loan on a first-come, first-served basis.\n",
       "   - **Directions:** The Louvre is approximately a 15-minute walk from Hotel Le Walt. You can navigate using accessible pedestrian paths. For exact directions, you can use a GPS or visit the Louvre's website: [Louvre Museum Directions](https://www.louvre.fr/en/plan-louvre-museum)\n",
       "   - **Accessibility:** The Louvre provides various visual aids, including audio descriptions and tactile models for visually impaired visitors.\n",
       "\n",
       "3. **Lunch at Le Comptoir du Relais**\n",
       "   - For lunch, visit Le Comptoir du Relais, a restaurant that has wheelchair access. Although it's a bit narrow, the staff is accommodating to guests with disabilities.\n",
       "   - **Booking:** It's advisable to book in advance to ensure they can accommodate your accessibility needs: [Le Comptoir du Relais Booking](https://www.comptoir-relais.com/en/reservation)\n",
       "\n",
       "4. **Palais-Royal**\n",
       "   - After lunch, visit the Palais-Royal, which is fully wheelchair accessible. The complex includes beautiful gardens and contemporary art spaces.\n",
       "   - **Directions:** Palais-Royal is about a 10-minute walk from Le Comptoir du Relais. Use accessible pedestrian paths and follow GPS directions: [Palais-Royal Directions](https://www.domaine-palais-royal.fr/en/plan-your-visit/accessibility)\n",
       "\n",
       "5. **Dinner at Le Grand Vefour**\n",
       "   - For dinner, dine at Le Grand Vefour, a historic restaurant that is wheelchair accessible. It has a lift for guests with mobility impairments.\n",
       "   - **Booking:** Make sure to book in advance to ensure accessibility arrangements: [Le Grand Vefour Booking](https://www.grand-vefour.com/en/reservation)\n",
       "\n",
       "#### Accessibility Tips\n",
       "- Ensure you have your visual aids and any personal assistance devices with you.\n",
       "- Inform your lodging and restaurants/destinations about your accessibility needs in advance.\n",
       "\n",
       "#### Contact Information\n",
       "For any last-minute changes or assistance during your trip, you can contact John Doe at john.doe@example.com.\n",
       "\n",
       "Enjoy your accessible trip to Paris!\n",
       "**Paris Travel Plan for John Doe (2025-06-12)**\n",
       "\n",
       "### Day 1: 2025-06-12\n",
       "\n",
       "#### Morning: Arrival and Check-in\n",
       "\n",
       "*   **Lodging:** Hotel Le Walt **** \n",
       "    *   **Booking:** [Book on Booking.com](https://www.booking.com/hotel/fr/hotel-le-walt.html?aid=304142;label=gen173nr-1DCAEogIAKAAmBmIAg2AADOYAQmyaHX6AQIYAQGYAQm4AQQgAQH4AQKIAgGoAgO4Aq3Rl5oGwAIB0gIKAFgAcABLw7Y;sid=8f49569f9d70e0c3f0a9ed0b9b0a455b;dest_id=-1456928;dest_type=city;dist=0;group_adults=2;group_children=0;hapos=1;hpos=1;no_rooms=1;room1=A%2CA;sb_price_type=total;sr_order=price;sr_pri_blocks=295%2C168%2Cfalse%2C295%2C168;srepoch=1710279558;srpvid=d3d4e8d3e351006b;type=total;ucfs=1&#hotelTmpl)\n",
       "    *   **Website:** [Hotel Le Walt Official Website](https://www.hotel-lewalt.com/)\n",
       "    *   **Directions:** Hotel Le Walt is located at 8 Rue De L'Amiral Hamelin, 75016 Paris, France. It is easily accessible by public transportation or taxi. The nearest metro station is Iéna (ligne 9), about a 5-minute walk away.\n",
       "*   **Accessibility Features:** \n",
       "    *   Wheelchair-accessible rooms and public areas\n",
       "    *   Elevator with voice announcements and Braille buttons\n",
       "    *   Visual aids available upon request\n",
       "\n",
       "#### Afternoon: Explore the Eiffel Tower\n",
       "\n",
       "*   **Eiffel Tower (Tour Eiffel)**\n",
       "    *   **Address:** 5 Avenue Anatole France, 75007 Paris, France\n",
       "    *   **Accessibility:** \n",
       "        *   Ramps and elevators for wheelchair access\n",
       "        *   Adapted restrooms\n",
       "        *   Audio descriptions and sign language interpretation available for guided tours (book in advance)\n",
       "    *   **Directions:** From Hotel Le Walt, take the metro (ligne 9) from Iéna to Trocadéro, then follow the signs to the Eiffel Tower. Approximately a 10-minute journey.\n",
       "\n",
       "#### Evening: Seine River Cruise\n",
       "\n",
       "*   **Bateaux-Mouches**\n",
       "    *   **Departure Point:** Pont de l'Alma, 75008 Paris, France\n",
       "    *   **Accessibility:** \n",
       "        *   Wheelchair-accessible boarding ramps\n",
       "        *   Adapted restrooms on board\n",
       "        *   Audio descriptions available in multiple languages\n",
       "    *   **Directions:** From the Eiffel Tower, walk towards Pont de l'Alma. The departure point is clearly marked. Approximately a 15-minute walk.\n",
       "\n",
       "For any changes or special requests, please contact John Doe at john.doe@example.com. We look forward to assisting you further."
      ],
      "text/plain": [
       "<IPython.core.display.Markdown object>"
      ]
     },
     "execution_count": 47,
     "metadata": {},
     "output_type": "execute_result"
    }
   ],
   "source": [
    "\n"
   ]
  }
 ],
 "metadata": {
  "application/vnd.databricks.v1+notebook": {
   "computePreferences": null,
   "dashboards": [],
   "environmentMetadata": {
    "base_environment": "",
    "environment_version": "2"
   },
   "inputWidgetPreferences": null,
   "language": "python",
   "notebookMetadata": {
    "pythonIndentUnit": 4
   },
   "notebookName": "Joe Notebook",
   "widgets": {}
  },
  "language_info": {
   "name": "python"
  }
 },
 "nbformat": 4,
 "nbformat_minor": 0
}