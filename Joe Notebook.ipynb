{
 "cells": [
  {
   "cell_type": "code",
   "execution_count": 0,
   "metadata": {
    "application/vnd.databricks.v1+cell": {
     "cellMetadata": {
      "byteLimit": 2048000,
      "rowLimit": 10000
     },
     "inputWidgets": {},
     "nuid": "784b60f0-70d6-4fdb-bc15-d178d23e690b",
     "showTitle": false,
     "tableResultSettingsMap": {},
     "title": ""
    }
   },
   "outputs": [
    {
     "output_type": "stream",
     "name": "stdout",
     "output_type": "stream",
     "text": [
      "Requirement already satisfied: langchain in /local_disk0/.ephemeral_nfs/envs/pythonEnv-58cc487c-5827-4492-b9e0-f283bd629913/lib/python3.11/site-packages (0.3.25)\nCollecting openai\n  Downloading openai-1.85.0-py3-none-any.whl.metadata (25 kB)\nRequirement already satisfied: langchain-core<1.0.0,>=0.3.58 in /local_disk0/.ephemeral_nfs/envs/pythonEnv-58cc487c-5827-4492-b9e0-f283bd629913/lib/python3.11/site-packages (from langchain) (0.3.64)\nRequirement already satisfied: langchain-text-splitters<1.0.0,>=0.3.8 in /local_disk0/.ephemeral_nfs/envs/pythonEnv-58cc487c-5827-4492-b9e0-f283bd629913/lib/python3.11/site-packages (from langchain) (0.3.8)\nRequirement already satisfied: langsmith<0.4,>=0.1.17 in /local_disk0/.ephemeral_nfs/envs/pythonEnv-58cc487c-5827-4492-b9e0-f283bd629913/lib/python3.11/site-packages (from langchain) (0.3.45)\nRequirement already satisfied: pydantic<3.0.0,>=2.7.4 in /local_disk0/.ephemeral_nfs/envs/pythonEnv-58cc487c-5827-4492-b9e0-f283bd629913/lib/python3.11/site-packages (from langchain) (2.11.5)\nRequirement already satisfied: SQLAlchemy<3,>=1.4 in /local_disk0/.ephemeral_nfs/envs/pythonEnv-58cc487c-5827-4492-b9e0-f283bd629913/lib/python3.11/site-packages (from langchain) (2.0.41)\nRequirement already satisfied: requests<3,>=2 in /databricks/python3/lib/python3.11/site-packages (from langchain) (2.31.0)\nRequirement already satisfied: PyYAML>=5.3 in /databricks/python3/lib/python3.11/site-packages (from langchain) (6.0)\nRequirement already satisfied: anyio<5,>=3.5.0 in /local_disk0/.ephemeral_nfs/envs/pythonEnv-58cc487c-5827-4492-b9e0-f283bd629913/lib/python3.11/site-packages (from openai) (4.9.0)\nRequirement already satisfied: distro<2,>=1.7.0 in /usr/lib/python3/dist-packages (from openai) (1.7.0)\nRequirement already satisfied: httpx<1,>=0.23.0 in /local_disk0/.ephemeral_nfs/envs/pythonEnv-58cc487c-5827-4492-b9e0-f283bd629913/lib/python3.11/site-packages (from openai) (0.28.1)\nCollecting jiter<1,>=0.4.0 (from openai)\n  Downloading jiter-0.10.0-cp311-cp311-manylinux_2_17_x86_64.manylinux2014_x86_64.whl.metadata (5.2 kB)\nRequirement already satisfied: sniffio in /local_disk0/.ephemeral_nfs/envs/pythonEnv-58cc487c-5827-4492-b9e0-f283bd629913/lib/python3.11/site-packages (from openai) (1.3.1)\nCollecting tqdm>4 (from openai)\n  Downloading tqdm-4.67.1-py3-none-any.whl.metadata (57 kB)\nRequirement already satisfied: typing-extensions<5,>=4.11 in /local_disk0/.ephemeral_nfs/envs/pythonEnv-58cc487c-5827-4492-b9e0-f283bd629913/lib/python3.11/site-packages (from openai) (4.14.0)\nRequirement already satisfied: idna>=2.8 in /databricks/python3/lib/python3.11/site-packages (from anyio<5,>=3.5.0->openai) (3.4)\nRequirement already satisfied: certifi in /databricks/python3/lib/python3.11/site-packages (from httpx<1,>=0.23.0->openai) (2023.7.22)\nRequirement already satisfied: httpcore==1.* in /local_disk0/.ephemeral_nfs/envs/pythonEnv-58cc487c-5827-4492-b9e0-f283bd629913/lib/python3.11/site-packages (from httpx<1,>=0.23.0->openai) (1.0.9)\nRequirement already satisfied: h11>=0.16 in /local_disk0/.ephemeral_nfs/envs/pythonEnv-58cc487c-5827-4492-b9e0-f283bd629913/lib/python3.11/site-packages (from httpcore==1.*->httpx<1,>=0.23.0->openai) (0.16.0)\nRequirement already satisfied: tenacity!=8.4.0,<10.0.0,>=8.1.0 in /databricks/python3/lib/python3.11/site-packages (from langchain-core<1.0.0,>=0.3.58->langchain) (8.2.2)\nRequirement already satisfied: jsonpatch<2.0,>=1.33 in /local_disk0/.ephemeral_nfs/envs/pythonEnv-58cc487c-5827-4492-b9e0-f283bd629913/lib/python3.11/site-packages (from langchain-core<1.0.0,>=0.3.58->langchain) (1.33)\nRequirement already satisfied: packaging<25,>=23.2 in /databricks/python3/lib/python3.11/site-packages (from langchain-core<1.0.0,>=0.3.58->langchain) (23.2)\nRequirement already satisfied: orjson<4.0.0,>=3.9.14 in /local_disk0/.ephemeral_nfs/envs/pythonEnv-58cc487c-5827-4492-b9e0-f283bd629913/lib/python3.11/site-packages (from langsmith<0.4,>=0.1.17->langchain) (3.10.18)\nRequirement already satisfied: requests-toolbelt<2.0.0,>=1.0.0 in /local_disk0/.ephemeral_nfs/envs/pythonEnv-58cc487c-5827-4492-b9e0-f283bd629913/lib/python3.11/site-packages (from langsmith<0.4,>=0.1.17->langchain) (1.0.0)\nRequirement already satisfied: zstandard<0.24.0,>=0.23.0 in /databricks/python3/lib/python3.11/site-packages (from langsmith<0.4,>=0.1.17->langchain) (0.23.0)\nRequirement already satisfied: annotated-types>=0.6.0 in /local_disk0/.ephemeral_nfs/envs/pythonEnv-58cc487c-5827-4492-b9e0-f283bd629913/lib/python3.11/site-packages (from pydantic<3.0.0,>=2.7.4->langchain) (0.7.0)\nRequirement already satisfied: pydantic-core==2.33.2 in /local_disk0/.ephemeral_nfs/envs/pythonEnv-58cc487c-5827-4492-b9e0-f283bd629913/lib/python3.11/site-packages (from pydantic<3.0.0,>=2.7.4->langchain) (2.33.2)\nRequirement already satisfied: typing-inspection>=0.4.0 in /local_disk0/.ephemeral_nfs/envs/pythonEnv-58cc487c-5827-4492-b9e0-f283bd629913/lib/python3.11/site-packages (from pydantic<3.0.0,>=2.7.4->langchain) (0.4.1)\nRequirement already satisfied: charset-normalizer<4,>=2 in /databricks/python3/lib/python3.11/site-packages (from requests<3,>=2->langchain) (2.0.4)\nRequirement already satisfied: urllib3<3,>=1.21.1 in /databricks/python3/lib/python3.11/site-packages (from requests<3,>=2->langchain) (1.26.16)\nRequirement already satisfied: greenlet>=1 in /local_disk0/.ephemeral_nfs/envs/pythonEnv-58cc487c-5827-4492-b9e0-f283bd629913/lib/python3.11/site-packages (from SQLAlchemy<3,>=1.4->langchain) (3.2.3)\nRequirement already satisfied: jsonpointer>=1.9 in /local_disk0/.ephemeral_nfs/envs/pythonEnv-58cc487c-5827-4492-b9e0-f283bd629913/lib/python3.11/site-packages (from jsonpatch<2.0,>=1.33->langchain-core<1.0.0,>=0.3.58->langchain) (3.0.0)\nDownloading openai-1.85.0-py3-none-any.whl (730 kB)\n\u001B[?25l   \u001B[90m━━━━━━━━━━━━━━━━━━━━━━━━━━━━━━━━━━━━━━━━\u001B[0m \u001B[32m0.0/730.2 kB\u001B[0m \u001B[31m?\u001B[0m eta \u001B[36m-:--:--\u001B[0m\n\u001B[2K   \u001B[90m━━━━━━━━━━━━━━━━━━━━━━━━━━━━━━━━━━━━━━━━\u001B[0m \u001B[32m730.2/730.2 kB\u001B[0m \u001B[31m23.9 MB/s\u001B[0m eta \u001B[36m0:00:00\u001B[0m\n\u001B[?25hDownloading jiter-0.10.0-cp311-cp311-manylinux_2_17_x86_64.manylinux2014_x86_64.whl (352 kB)\nDownloading tqdm-4.67.1-py3-none-any.whl (78 kB)\nInstalling collected packages: tqdm, jiter, openai\nSuccessfully installed jiter-0.10.0 openai-1.85.0 tqdm-4.67.1\n\u001B[43mNote: you may need to restart the kernel using %restart_python or dbutils.library.restartPython() to use updated packages.\u001B[0m\n"
     ]
    }
   ],
   "source": [
    "!pip install langchain openai"
   ]
  },
  {
   "cell_type": "code",
   "execution_count": 0,
   "metadata": {
    "application/vnd.databricks.v1+cell": {
     "cellMetadata": {
      "byteLimit": 2048000,
      "rowLimit": 10000
     },
     "inputWidgets": {},
     "nuid": "e5c81fb6-8ccb-4575-b636-d0b84a603f17",
     "showTitle": false,
     "tableResultSettingsMap": {},
     "title": ""
    }
   },
   "outputs": [],
   "source": [
    "dbutils.library.restartPython()"
   ]
  },
  {
   "cell_type": "markdown",
   "metadata": {
    "application/vnd.databricks.v1+cell": {
     "cellMetadata": {},
     "inputWidgets": {},
     "nuid": "02f32292-ffc4-44b6-bf07-406aa667a56c",
     "showTitle": false,
     "tableResultSettingsMap": {},
     "title": ""
    }
   },
   "source": [
    "Agent Use Cases:\n",
    "1. Lodging - Airbnb\n",
    "2. Lodging - Booking\n",
    "3. Lodging - Google\n",
    "4. Itinerary\n",
    "5. Location to Location\n",
    "\n",
    "Need to determine lodging first or itinerary first\n",
    "Location to location will always come last"
   ]
  },
  {
   "cell_type": "code",
   "execution_count": 0,
   "metadata": {
    "application/vnd.databricks.v1+cell": {
     "cellMetadata": {
      "byteLimit": 2048000,
      "rowLimit": 10000
     },
     "inputWidgets": {},
     "nuid": "6d8b277f-8c40-48a7-a6c3-6a0a8c215aaf",
     "showTitle": false,
     "tableResultSettingsMap": {},
     "title": ""
    }
   },
   "outputs": [
    {
     "output_type": "stream",
     "name": "stdout",
     "output_type": "stream",
     "text": [
      "An LLM agent is a software entity that utilizes a Large Language Model (LLM) to perform various tasks. To understand what an LLM agent is, let's break down the components:\n\n1. **Large Language Model (LLM)**: LLMs are a type of artificial intelligence (AI) model designed to process and generate human-like language. These models are trained on vast amounts of text data, enabling them to understand and respond to a wide range of inputs, from simple queries to complex tasks.\n\n2. **Agent**: In the context of computing and AI, an agent refers to a program or system that can perceive its environment, make decisions based on its perceptions, and act upon its environment to achieve certain goals. Agents can be simple or complex, ranging from a basic software bot that performs a routine task to sophisticated systems that can learn and adapt.\n\nWhen we talk about an **LLM agent**, we're referring to a software agent that leverages the capabilities of a Large Language Model. This means the agent can understand natural language inputs, generate human-like text or responses, and potentially perform tasks that require understanding or manipulating language.\n\nLLM agents can be designed for a variety of applications, including but not limited to:\n\n- **Customer Service**: Automating responses to customer inquiries, providing support, and helping with simple issues.\n- **Content Creation**: Generating articles, social media posts, or other forms of written content based on prompts or guidelines.\n- **Personal Assistants**: Helping users with tasks such as scheduling appointments, setting reminders, or providing information on demand.\n- **Language Translation**: Translating text or speech from one language to another, facilitating communication across language barriers.\n- **Research and Data Analysis**: Assisting in data analysis by summarizing large documents, identifying relevant information, or even generating insights based on the data analyzed.\n\nThe capabilities of an LLM agent depend on the specific LLM it is based on, as well as how it is programmed and integrated with other systems or data sources. For example, an LLM agent might be connected to a database to provide more accurate and up-to-date information or integrated with other AI models to perform multimodal tasks (e.g., generating images or processing voice commands).\n\nOverall, LLM agents represent a powerful application of AI technology, enabling more sophisticated and flexible automation in a wide range of domains.\n"
     ]
    }
   ],
   "source": [
    "from openai import OpenAI\n",
    "import os\n",
    "\n",
    "# How to get your Databricks token: https://docs.databricks.com/en/dev-tools/auth/pat.html\n",
    "# DATABRICKS_TOKEN = os.environ.get('DATABRICKS_TOKEN')\n",
    "# Alternatively in a Databricks notebook you can use this:\n",
    "DATABRICKS_TOKEN = dbutils.notebook.entry_point.getDbutils().notebook().getContext().apiToken().get()\n",
    "\n",
    "client = OpenAI(\n",
    "    api_key=DATABRICKS_TOKEN,\n",
    "    base_url=\"https://dbc-853dca7e-4798.cloud.databricks.com/serving-endpoints\"\n",
    ")\n",
    "\n",
    "response = client.chat.completions.create(\n",
    "    model=\"Maverick-Hackathon\",\n",
    "    messages=[\n",
    "        {\n",
    "            \"role\": \"user\",\n",
    "            \"content\": \"What is an LLM agent?\"\n",
    "        }\n",
    "    ]\n",
    ")\n",
    "\n",
    "print(response.choices[0].message.content)"
   ]
  },
  {
   "cell_type": "code",
   "execution_count": 0,
   "metadata": {
    "application/vnd.databricks.v1+cell": {
     "cellMetadata": {
      "byteLimit": 2048000,
      "rowLimit": 10000
     },
     "inputWidgets": {},
     "nuid": "3ff41b37-d339-4050-97d4-d6a895309b1e",
     "showTitle": false,
     "tableResultSettingsMap": {},
     "title": ""
    }
   },
   "outputs": [],
   "source": [
    "from langchain.agents import initialize_agent, AgentType\n",
    "from langchain.chains import SequentialChain"
   ]
  },
  {
   "cell_type": "code",
   "execution_count": 0,
   "metadata": {
    "application/vnd.databricks.v1+cell": {
     "cellMetadata": {
      "byteLimit": 2048000,
      "rowLimit": 10000
     },
     "inputWidgets": {},
     "nuid": "e09dced6-3be4-4879-8fc6-6044cdf4e5ef",
     "showTitle": false,
     "tableResultSettingsMap": {},
     "title": ""
    }
   },
   "outputs": [],
   "source": [
    "def call_llm(system_prompt, inputs):\n",
    "    data = {\n",
    "        \"model\": \"Maverick-Hackathon\",\n",
    "        \"messages\": [\n",
    "            {\n",
    "                \"role\": \"system\",\n",
    "                \"content\": system_prompt\n",
    "            },\n",
    "            {\n",
    "                \"role\": \"user\",\n",
    "                \"content\": str(inputs)\n",
    "            }\n",
    "        ]\n",
    "    }\n",
    "    response = client.chat.completions.create(**data)\n",
    "    return response.choices[0].message.content"
   ]
  },
  {
   "cell_type": "code",
   "execution_count": 0,
   "metadata": {
    "application/vnd.databricks.v1+cell": {
     "cellMetadata": {
      "byteLimit": 2048000,
      "rowLimit": 10000
     },
     "inputWidgets": {},
     "nuid": "3908f0cc-5587-4fac-80d5-bef4a78572b3",
     "showTitle": false,
     "tableResultSettingsMap": {},
     "title": ""
    }
   },
   "outputs": [],
   "source": [
    "#def call_llm(system_prompt, inputs):\n",
    "#    data = {\n",
    "#        \"inputs\": [\n",
    "#            {\n",
    "#                \"input\": f\"{system_prompt}\\nInputs: {inputs}\"\n",
    "#            }\n",
    "#        ]\n",
    "#    }\n",
    "#    result = query_model_endpoint(data)\n",
    "#    return result\n",
    "\n",
    "def generate_itinerary(accessibility_needs, destination, dates):\n",
    "    system_prompt = (\n",
    "        f\"You are a helpful travel agent. Your task is to generate a travel itinerary for a user with specific accessibility needs. \"\n",
    "        f\"The user may not have specific plans in mind. The user is arriving to {destination}. \"\n",
    "        f\"Date Context {dates if len(dates) > 0 else 'No dates provided'}. Accessibility Needs: {accessibility_needs}.\"\n",
    "    )\n",
    "    inputs = {\n",
    "        \"accessibility_needs\": accessibility_needs,\n",
    "        \"destination\": destination,\n",
    "        \"dates\": dates\n",
    "    }\n",
    "    return call_llm(system_prompt, inputs)\n",
    "\n",
    "def find_lodging(accessibility_needs, destination, dates):\n",
    "    system_prompt = (\n",
    "        \"You're a helpful travel agent. Your task is to find lodging options in a specific destination for a given date range that meet the user's accessibility needs. \"\n",
    "        \"Ensure that the lodging has the accomodations necessary for the user. If you cannot meet those requirements, then return 'No lodging with accomodations found'.\"\n",
    "    )\n",
    "    inputs = {\n",
    "        \"accessibility_needs\": accessibility_needs,\n",
    "        \"destination\": destination,\n",
    "        \"dates\": dates\n",
    "    }\n",
    "    return call_llm(system_prompt, inputs)\n",
    "\n",
    "def create_booking(lodging_info, accessibility_needs, user_info):\n",
    "    system_prompt = (\n",
    "        f\"Given the lodging information and trip context. Pre-fill the form for the user. \"\n",
    "        f\"Context: {lodging_info}; User Information: {user_info}.\"\n",
    "    )\n",
    "    inputs = {\n",
    "        \"lodging_info\": lodging_info,\n",
    "        \"accessibility_needs\": accessibility_needs,\n",
    "        \"user_info\": user_info\n",
    "    }\n",
    "    return call_llm(system_prompt, inputs)\n",
    "\n",
    "def generate_directions(origin, destination, accessibility_needs, date):\n",
    "    system_prompt = (\n",
    "        f\"Given that the user is going to {destination} on {date}, generate detailed, accessible directions from their home to the destination. \"\n",
    "        f\"Allow ample time and include step-by-step accessible options for the following needs: {accessibility_needs}.\"\n",
    "    )\n",
    "    inputs = {\n",
    "        \"origin\": origin,\n",
    "        \"destination\": destination,\n",
    "        \"accessibility_needs\": accessibility_needs,\n",
    "        \"date\": date\n",
    "    }\n",
    "    return call_llm(system_prompt, inputs)\n",
    "\n",
    "def generate_overall_plan(accessibility_needs, destination, dates, user_info):\n",
    "    system_prompt = (\n",
    "        f\"Given the knowledge of the previous steps, combine the following into a comprehensive, accessible travel plan. \"\n",
    "        f\"Ensure accessibility is prioritized throughout. Be as detailed as possible. Provide each day as a separate response, so that way you can maximize the information provided to the user. \"\n",
    "        f\"Provide the location or lodging website URL. Lodging: {{lodging}}, Booking: {{booking}}, Directions: {{directions}}.\"\n",
    "    )\n",
    "    inputs = {\n",
    "        \"accessibility_needs\": accessibility_needs,\n",
    "        \"destination\": destination,\n",
    "        \"dates\": dates,\n",
    "        \"user_info\": user_info\n",
    "    }\n",
    "    return call_llm(system_prompt, inputs)"
   ]
  },
  {
   "cell_type": "code",
   "execution_count": 0,
   "metadata": {
    "application/vnd.databricks.v1+cell": {
     "cellMetadata": {
      "byteLimit": 2048000,
      "rowLimit": 10000
     },
     "inputWidgets": {},
     "nuid": "ce430910-ae2b-4c0f-9398-db31bf2d8aef",
     "showTitle": false,
     "tableResultSettingsMap": {},
     "title": ""
    }
   },
   "outputs": [],
   "source": [
    "class Step:\n",
    "    def __init__(self, name, function, inputs, system_prompt):\n",
    "        self.name = name\n",
    "        self.function = function\n",
    "        self.inputs = inputs\n",
    "        self.system_prompt = system_prompt\n",
    "        self.output = None\n",
    "        self.input_keys = tuple(inputs)\n",
    "\n",
    "    def run(self):\n",
    "        # Implement the logic to execute the function with inputs\n",
    "        self.output = self.function(*self.inputs)\n",
    "        return self.output\n",
    "    \n",
    "class TravelAgent:\n",
    "    def __init__(self, accessibility_needs, destination, dates, user_info):\n",
    "        self.accessibility_needs = accessibility_needs\n",
    "        self.destination = destination\n",
    "        self.dates = dates\n",
    "        self.user_info = user_info\n",
    "        self.lodging_info = None\n",
    "\n",
    "    def generate_itinerary_step(self):\n",
    "        return Step(\n",
    "            name=\"Generate Itinerary\",\n",
    "            function=generate_itinerary,\n",
    "            inputs=[self.accessibility_needs, self.destination, self.dates],\n",
    "            system_prompt = \"You are a helpful travel agent. Your task is to generate a travel itinerary for a user with specific accessibility needs. The user may not have specific plans in mind. The user is arriving to {self.destination}. Date Context {self.dates if len(self.dates) > 0 else 'No dates provided'}. Accessibility Needs: {self.accessibility_needs}.\"\n",
    "        )\n",
    "\n",
    "    def find_lodging_step(self):\n",
    "        return Step(\n",
    "            name=\"Find Lodging\",\n",
    "            function=find_lodging,\n",
    "            inputs=[self.accessibility_needs, self.destination, self.dates],\n",
    "            system_prompt = \"You're a helpful travel agent. Your task is to find lodging options in a specific destination for a given date range that meet the user's accessibility needs. Ensure that the lodging has the accomodations necessary for the user. If you cannot meet those requirements, then return 'No lodging with accomodations found'.\"\n",
    "        )\n",
    "\n",
    "    def create_booking_step(self):\n",
    "        return Step(\n",
    "            name=\"Create Booking\",\n",
    "            function=create_booking,\n",
    "            inputs=[self.lodging_info, self.accessibility_needs, self.user_info],\n",
    "            system_prompt = \"Given the lodging information and trip context. Pre-fill the from for the user. Context: {self.lodging_info}; User Information: {self.user_info}.\"\n",
    "        )\n",
    "\n",
    "    def generate_directions_step(self):\n",
    "        return Step(\n",
    "            name=\"Generate Directions\",\n",
    "            function=generate_directions,\n",
    "            inputs=[\"Home\", self.destination, self.accessibility_needs, self.dates[0]],\n",
    "            system_prompt = \"Given that the user is going to {self.destination} on {self.dates[0]}, generate detailed, accessible directions from their home to the destination. Allow ample time and include step-by-step accessible options for the following needs: {self.accessibility_needs}.\"\n",
    "        )\n",
    "\n",
    "    def generate_overall_plan_step(self):\n",
    "        return Step(\n",
    "            name=\"Generate Overall Plan\",\n",
    "            function=generate_overall_plan,\n",
    "            inputs=[self.accessibility_needs, self.destination, self.dates, self.user_info],\n",
    "            system_prompt = \"Given the knowledge of the previous steps, combine the following into a comprehensive, accessible travel plan. Ensure accessibility is prioritized throughout. Be as detailed as possible. Provide each day as a separate response, so that way you can maximize the information provided to the user. Provide the location or lodging website URL. Lodging: {self.find_lodging_step().output}, Booking: {self.create_booking_step().output}, Directions: {self.generate_directions_step().output}.\"\n",
    "        )\n",
    "\n",
    "    def specify_accessibility_needs():\n",
    "        accessibility_needs = input(\"Please specify your accessibility needs (e.g., wheelchair access, visual aids): \")\n",
    "        return accessibility_needs\n",
    "\n",
    "    def update_user_info():\n",
    "        first_name = input(\"Please enter your first name: \")\n",
    "        last_name = input(\"Please enter your last name: \")\n",
    "        date_of_birth = input(\"Please enter your date of birth (YYYY-MM-DD): \")\n",
    "        email = input(\"Please enter your email: \")\n",
    "        phone_number = input(\"Please enter your phone number: \")\n",
    "        user_info = {\n",
    "            \"first_name\": first_name,\n",
    "            \"last_name\": last_name,\n",
    "            \"date_of_birth\": date_of_birth,\n",
    "            \"email\": email,\n",
    "            \"phone_number\": phone_number\n",
    "        }\n",
    "        return user_info\n",
    "\n",
    "    def create_chain(self):\n",
    "        itinerary_step = self.generate_itinerary_step()\n",
    "        itinerary_step.run()\n",
    "        \n",
    "        lodging_step = self.find_lodging_step()\n",
    "        self.lodging_info = lodging_step.run()  # Update lodging_info attribute\n",
    "        \n",
    "        booking_step = self.create_booking_step()\n",
    "        booking_output = booking_step.run()\n",
    "        \n",
    "        overall_plan_output = []\n",
    "        for date in self.dates:\n",
    "            directions_step = self.generate_directions_step(date)\n",
    "            directions_output = directions_step.run()\n",
    "            \n",
    "            overall_plan_step = self.generate_overall_plan_step(date)\n",
    "            day_plan = overall_plan_step.run()\n",
    "            \n",
    "            # Ensure no duplicate activities\n",
    "            if day_plan not in self.activities:\n",
    "                self.activities.add(day_plan)\n",
    "                overall_plan_output.append(day_plan)\n",
    "        \n",
    "        return overall_plan_output\n",
    "\n"
   ]
  },
  {
   "cell_type": "code",
   "execution_count": 0,
   "metadata": {
    "application/vnd.databricks.v1+cell": {
     "cellMetadata": {
      "byteLimit": 2048000,
      "rowLimit": 10000
     },
     "inputWidgets": {},
     "nuid": "3d4a69bb-7106-4145-a80e-83fccc9070c8",
     "showTitle": false,
     "tableResultSettingsMap": {},
     "title": ""
    }
   },
   "outputs": [
    {
     "output_type": "display_data",
     "data": {
      "text/plain": [
       "\u001B[0;31m---------------------------------------------------------------------------\u001B[0m\n",
       "\u001B[0;31mTypeError\u001B[0m                                 Traceback (most recent call last)\n",
       "File \u001B[0;32m<command-8300164410613005>, line 8\u001B[0m\n",
       "\u001B[1;32m      5\u001B[0m user_info \u001B[38;5;241m=\u001B[39m {\u001B[38;5;124m\"\u001B[39m\u001B[38;5;124mname\u001B[39m\u001B[38;5;124m\"\u001B[39m: \u001B[38;5;124m\"\u001B[39m\u001B[38;5;124mJohn Doe\u001B[39m\u001B[38;5;124m\"\u001B[39m, \u001B[38;5;124m\"\u001B[39m\u001B[38;5;124mcontact\u001B[39m\u001B[38;5;124m\"\u001B[39m: \u001B[38;5;124m\"\u001B[39m\u001B[38;5;124mjohn.doe@example.com\u001B[39m\u001B[38;5;124m\"\u001B[39m}\n",
       "\u001B[1;32m      7\u001B[0m travel_agent \u001B[38;5;241m=\u001B[39m TravelAgent(accessibility_needs, destination, dates, user_info)\n",
       "\u001B[0;32m----> 8\u001B[0m travel_chain \u001B[38;5;241m=\u001B[39m travel_agent\u001B[38;5;241m.\u001B[39mcreate_chain()\n",
       "\u001B[1;32m      9\u001B[0m \u001B[38;5;66;03m#result = travel_chain.run()\u001B[39;00m\n",
       "\u001B[1;32m     10\u001B[0m display(travel_chain)\n",
       "\n",
       "File \u001B[0;32m<command-8300164410612857>, line 94\u001B[0m, in \u001B[0;36mTravelAgent.create_chain\u001B[0;34m(self)\u001B[0m\n",
       "\u001B[1;32m     92\u001B[0m overall_plan_output \u001B[38;5;241m=\u001B[39m []\n",
       "\u001B[1;32m     93\u001B[0m \u001B[38;5;28;01mfor\u001B[39;00m date \u001B[38;5;129;01min\u001B[39;00m \u001B[38;5;28mself\u001B[39m\u001B[38;5;241m.\u001B[39mdates:\n",
       "\u001B[0;32m---> 94\u001B[0m     directions_step \u001B[38;5;241m=\u001B[39m \u001B[38;5;28mself\u001B[39m\u001B[38;5;241m.\u001B[39mgenerate_directions_step(date)\n",
       "\u001B[1;32m     95\u001B[0m     directions_output \u001B[38;5;241m=\u001B[39m directions_step\u001B[38;5;241m.\u001B[39mrun()\n",
       "\u001B[1;32m     97\u001B[0m     overall_plan_step \u001B[38;5;241m=\u001B[39m \u001B[38;5;28mself\u001B[39m\u001B[38;5;241m.\u001B[39mgenerate_overall_plan_step(date)\n",
       "\n",
       "\u001B[0;31mTypeError\u001B[0m: TravelAgent.generate_directions_step() takes 1 positional argument but 2 were given"
      ]
     },
     "metadata": {
      "application/vnd.databricks.v1+output": {
       "addedWidgets": {},
       "arguments": {},
       "datasetInfos": [],
       "jupyterProps": {
        "ename": "TypeError",
        "evalue": "TravelAgent.generate_directions_step() takes 1 positional argument but 2 were given"
       },
       "metadata": {
        "errorSummary": "<span class='ansi-red-fg'>TypeError</span>: TravelAgent.generate_directions_step() takes 1 positional argument but 2 were given"
       },
       "removedWidgets": [],
       "sqlProps": null,
       "stackFrames": [
        "\u001B[0;31m---------------------------------------------------------------------------\u001B[0m",
        "\u001B[0;31mTypeError\u001B[0m                                 Traceback (most recent call last)",
        "File \u001B[0;32m<command-8300164410613005>, line 8\u001B[0m\n\u001B[1;32m      5\u001B[0m user_info \u001B[38;5;241m=\u001B[39m {\u001B[38;5;124m\"\u001B[39m\u001B[38;5;124mname\u001B[39m\u001B[38;5;124m\"\u001B[39m: \u001B[38;5;124m\"\u001B[39m\u001B[38;5;124mJohn Doe\u001B[39m\u001B[38;5;124m\"\u001B[39m, \u001B[38;5;124m\"\u001B[39m\u001B[38;5;124mcontact\u001B[39m\u001B[38;5;124m\"\u001B[39m: \u001B[38;5;124m\"\u001B[39m\u001B[38;5;124mjohn.doe@example.com\u001B[39m\u001B[38;5;124m\"\u001B[39m}\n\u001B[1;32m      7\u001B[0m travel_agent \u001B[38;5;241m=\u001B[39m TravelAgent(accessibility_needs, destination, dates, user_info)\n\u001B[0;32m----> 8\u001B[0m travel_chain \u001B[38;5;241m=\u001B[39m travel_agent\u001B[38;5;241m.\u001B[39mcreate_chain()\n\u001B[1;32m      9\u001B[0m \u001B[38;5;66;03m#result = travel_chain.run()\u001B[39;00m\n\u001B[1;32m     10\u001B[0m display(travel_chain)\n",
        "File \u001B[0;32m<command-8300164410612857>, line 94\u001B[0m, in \u001B[0;36mTravelAgent.create_chain\u001B[0;34m(self)\u001B[0m\n\u001B[1;32m     92\u001B[0m overall_plan_output \u001B[38;5;241m=\u001B[39m []\n\u001B[1;32m     93\u001B[0m \u001B[38;5;28;01mfor\u001B[39;00m date \u001B[38;5;129;01min\u001B[39;00m \u001B[38;5;28mself\u001B[39m\u001B[38;5;241m.\u001B[39mdates:\n\u001B[0;32m---> 94\u001B[0m     directions_step \u001B[38;5;241m=\u001B[39m \u001B[38;5;28mself\u001B[39m\u001B[38;5;241m.\u001B[39mgenerate_directions_step(date)\n\u001B[1;32m     95\u001B[0m     directions_output \u001B[38;5;241m=\u001B[39m directions_step\u001B[38;5;241m.\u001B[39mrun()\n\u001B[1;32m     97\u001B[0m     overall_plan_step \u001B[38;5;241m=\u001B[39m \u001B[38;5;28mself\u001B[39m\u001B[38;5;241m.\u001B[39mgenerate_overall_plan_step(date)\n",
        "\u001B[0;31mTypeError\u001B[0m: TravelAgent.generate_directions_step() takes 1 positional argument but 2 were given"
       ],
       "type": "baseError"
      }
     },
     "output_type": "display_data"
    }
   ],
   "source": [
    "# Example usage\n",
    "accessibility_needs = \"wheelchair access, visual aids\"\n",
    "destination = \"Paris\"\n",
    "dates = [\"2025-06-10\", \"2025-06-20\"]\n",
    "user_info = {\"name\": \"John Doe\", \"contact\": \"john.doe@example.com\"}\n",
    "\n",
    "travel_agent = TravelAgent(accessibility_needs, destination, dates, user_info)\n",
    "travel_chain = travel_agent.create_chain()\n",
    "#result = travel_chain.run()\n",
    "display(travel_chain)"
   ]
  },
  {
   "cell_type": "code",
   "execution_count": 0,
   "metadata": {
    "application/vnd.databricks.v1+cell": {
     "cellMetadata": {
      "byteLimit": 2048000,
      "rowLimit": 10000
     },
     "inputWidgets": {},
     "nuid": "1c2f3052-b1c2-4bb1-86e5-bfecfcfbdcb9",
     "showTitle": false,
     "tableResultSettingsMap": {},
     "title": ""
    }
   },
   "outputs": [
    {
     "output_type": "display_data",
     "data": {
      "text/html": [
       "<style scoped>\n",
       "  .table-result-container {\n",
       "    max-height: 300px;\n",
       "    overflow: auto;\n",
       "  }\n",
       "  table, th, td {\n",
       "    border: 1px solid black;\n",
       "    border-collapse: collapse;\n",
       "  }\n",
       "  th, td {\n",
       "    padding: 5px;\n",
       "  }\n",
       "  th {\n",
       "    text-align: left;\n",
       "  }\n",
       "</style><div class='table-result-container'><table class='table-result'><thead style='background-color: white'><tr><th>_1</th></tr></thead><tbody><tr><td>**Accessible Paris Travel Plan for John Doe**\n",
       "\n",
       "### Day 1: 2025-06-10\n",
       "\n",
       "#### Lodging:\n",
       "You will be staying at the **Hotel Le Walt** (https://www.hotel-lewalt.com/), a wheelchair-accessible hotel located in the heart of Paris. The hotel has adapted rooms with roll-in showers and visual aids for guests with disabilities.\n",
       "\n",
       "- **Booking:** You can book your stay through the hotel's website or via a third-party booking site like Booking.com (https://www.booking.com/hotel/fr/hotel-le-walt.html). Ensure to specify your accessibility needs during the booking process.\n",
       "- **Directions:** The hotel is located at 8 Rue de la Huchette, 75005 Paris. To get there from Paris Charles de Gaulle Airport, you can take a taxi or the RER B train towards Robinson/Saint-Rémy-lès-Chevreuse, get off at Saint-Michel - Notre-Dame, then take a short taxi ride or walk to the hotel. The hotel is within walking distance to many Parisian landmarks.\n",
       "\n",
       "#### Itinerary:\n",
       "1. **Morning:** Start your day at the **Notre-Dame Cathedral** (https://www.notredamedeparis.fr/en/), a short walk from your hotel. The cathedral is wheelchair accessible via the rue du Cloître-Notre-Dame entrance. Visual aids and audio descriptions are available upon request.\n",
       "   \n",
       "2. **Lunch:** Head to **Le Comptoir du Relais** (https://www.comptoir-relais.com/), a wheelchair-accessible bistro near the cathedral. They can accommodate guests with various dietary needs; it's advisable to call ahead to discuss your requirements.\n",
       "\n",
       "3. **Afternoon:** Visit the **Louvre Museum** (https://www.louvre.fr/en/accessibility), which is fully wheelchair accessible with ramps and elevators. The museum offers adapted restrooms, audio descriptions, and tactile models for visitors with visual impairments. You can rent a wheelchair or borrow one free of charge with a deposit.\n",
       "\n",
       "4. **Dinner:** Dine at **Le Grand Vefour** (https://www.restaurant-legrandvefour.com/), a historic restaurant that is wheelchair accessible. They offer a sophisticated dining experience and can cater to various dietary needs.\n",
       "\n",
       "5. **Evening:** End your day with a scenic **Seine River Cruise** (https://www.vedettesdeparis.com/en/). Many cruise operators offer wheelchair-accessible boats. Some also provide visual aids like subtitles or audio descriptions.\n",
       "\n",
       "#### Accessibility Tips:\n",
       "- Ensure to verify the accessibility features of each location before heading out, as changes can occur.\n",
       "- Consider purchasing a **Paris Visite** ticket for unlimited travel on public transport and some attractions.\n",
       "- For any assistance or to confirm accessibility features, contact the venues directly or reach out to the Paris Tourist Office (https://www.parisinfo.com/).\n",
       "\n",
       "For further assistance or to make adjustments to this itinerary, please contact John Doe at john.doe@example.com.</td></tr><tr><td>Based on your accessibility needs, I've created a comprehensive travel plan for your trip to Paris on June 20, 2025. Here's your itinerary for Day 1:\n",
       "\n",
       "**Day 1: June 20, 2025**\n",
       "\n",
       "### Lodging\n",
       "You will be staying at the **Hotel Le Walt** (Lodging: [Hotel Le Walt](https://www.hotel-lewalt.com/)) which is known for its accessibility features. The hotel has wheelchair-accessible rooms and bathrooms, and the staff is trained to assist guests with disabilities.\n",
       "\n",
       "- **Booking:** You can book your room through their website or by contacting them directly. Ensure to request a wheelchair-accessible room and any other specific needs you may have. \n",
       "  - Booking: [Booking Form](https://www.hotel-lewalt.com/en/booking/)\n",
       "- **Directions:** Hotel Le Walt is located at 8 Rue de la Paix, 75009 Paris. \n",
       "  - Directions: [Google Maps](https://www.google.com/maps/place/Hotel+Le+Walt/@48.8721083,2.3330673,17z/data=!3m1!4b1!4m9!3m8!1s0x47e66e2964e34e8d:0x6c3c9d593e071eb9!5m2!4m1!1i2!8m2!3d48.8721083!4d2.3356422!16s%2Fg%2F11bw2l6rjr?entry=ttu&g_ep=EgoyMDI0MTIxMS4wIKXMDSoASAFQAw%3D%3D)\n",
       "\n",
       "### Travel Itinerary\n",
       "\n",
       "1. **Breakfast**\n",
       "   - Start your day with breakfast at **Café des Deux Moulins**, a wheelchair-accessible café near your hotel. They offer a variety of breakfast options and have a friendly staff.\n",
       "   - Location: 15 Rue Lepic, 75018 Paris\n",
       "   - Directions: [Google Maps](https://www.google.com/maps/place/Caf%C3%A9+des+Deux+Moulins/@48.8848955,2.3340613,17z/data=!3m1!4b1!4m9!3m8!1s0x47e66e2964e3d4f9:0x1c4b4d4200e16cd4!5m2!4m1!1i2!8m2!3d48.8848955!4d2.3366362!16s%2Fg%2F11c6kq6x1f?entry=ttu&g_ep=EgoyMDI0MTIxMS4wIKXMDSoASAFQAw%3D%3D)\n",
       "\n",
       "2. **Museum Visit**\n",
       "   - Head to the **Louvre Museum**, one of Paris's most famous museums. The Louvre is wheelchair accessible, with ramps and elevators available for visitors. \n",
       "   - They also offer visual aids and audio descriptions for visitors with visual impairments. Be sure to check their website for more information on accessibility services.\n",
       "   - Location: Rue de Rivoli, 75001 Paris\n",
       "   - Directions: [Google Maps](https://www.google.com/maps/place/Mus%C3%A9e+du+Louvre/@48.8607633,2.3233684,15z/data=!4m6!3m5!1s0x0:0x88e263d275a8ade5!8m2!3d48.8607633!4d2.3233684!16zL20vMDNfbnM?entry=ttu&g_ep=EgoyMDI0MTIxMS4wIKXMDSoASAFQAw%3D%3D)\n",
       "   - Louvre Museum Accessibility: [Louvre Accessibility](https://www.louvre.fr/en/accessibility)\n",
       "\n",
       "3. **Lunch**\n",
       "   - For lunch, visit **Le Comptoir du Relais**, a restaurant that is partially wheelchair accessible. They have a ramp for entry, but it's advisable to call ahead to confirm the accessibility of the facilities.\n",
       "   - Location: 9 Carrefour de l'Odéon, 75006 Paris\n",
       "   - Directions: [Google Maps](https://www.google.com/maps/place/Le+Comptoir+du+Relais/@48.8504954,2.3367091,17z/data=!3m1!4b1!4m9!3m8!1s0x47e66e1c2d4e8e2d:0x134441d2c640bc0!5m2!4m1!1i2!8m2!3d48.8504954!4d2.339284!16s%2Fg%2F11c3h5h2s7?entry=ttu&g_ep=EgoyMDI0MTIxMS4wIKXMDSoASAFQAw%3D%3D)\n",
       "\n",
       "4. **Afternoon Stroll**\n",
       "   - Take a leisurely stroll along the **Seine River**. Many areas along the Seine are wheelchair accessible, and you can enjoy the city's landmarks while taking in the beautiful views.\n",
       "   - You can start at the Pont des Arts and walk towards the Île de la Cité.\n",
       "\n",
       "5. **Dinner**\n",
       "   - For dinner, **Le Grand Vefour** is a historic restaurant that is wheelchair accessible. They have an elevator and a ramp for easier access.\n",
       "   - Location: 17 Rue de Beaujolais, 75001 Paris\n",
       "   - Directions: [Google Maps](https://www.google.com/maps/place/Le+Grand+Vefour/@48.8641814,2.3368682,17z/data=!3m1!4b1!4m9!3m8!1s0x47e66e1f791d553b:0x144e2b6f5e3e5d0!5m2!4m1!1i2!8m2!3d48.8641814!4d2.3394431!16s%2Fg%2F11cnj_xf_1?entry=ttu&g_ep=EgoyMDI0MTIxMS4wIKXMDSoASAFQAw%3D%3D)\n",
       "\n",
       "### Accessibility Tips\n",
       "- Always check the latest accessibility information on the attraction or restaurant's website before heading out.\n",
       "- Consider renting a wheelchair or mobility scooter if needed. Companies like **Mobility in Motion** offer such services.\n",
       "- Paris's public transportation system, including the metro, has improved its accessibility. Many stations are equipped with elevators, but it's a good idea to plan your route in advance using resources like the RATP website.\n",
       "\n",
       "### Contact Information\n",
       "For any last-minute changes or assistance, feel free to contact me through the provided contact information: John Doe, john.doe@example.com.\n",
       "\n",
       "Enjoy your trip to Paris!</td></tr></tbody></table></div>"
      ]
     },
     "metadata": {
      "application/vnd.databricks.v1+output": {
       "addedWidgets": {},
       "aggData": [],
       "aggError": "",
       "aggOverflow": false,
       "aggSchema": [],
       "aggSeriesLimitReached": false,
       "aggType": "",
       "arguments": {},
       "columnCustomDisplayInfos": {},
       "data": [
        [
         "**Accessible Paris Travel Plan for John Doe**\n\n### Day 1: 2025-06-10\n\n#### Lodging:\nYou will be staying at the **Hotel Le Walt** (https://www.hotel-lewalt.com/), a wheelchair-accessible hotel located in the heart of Paris. The hotel has adapted rooms with roll-in showers and visual aids for guests with disabilities.\n\n- **Booking:** You can book your stay through the hotel's website or via a third-party booking site like Booking.com (https://www.booking.com/hotel/fr/hotel-le-walt.html). Ensure to specify your accessibility needs during the booking process.\n- **Directions:** The hotel is located at 8 Rue de la Huchette, 75005 Paris. To get there from Paris Charles de Gaulle Airport, you can take a taxi or the RER B train towards Robinson/Saint-Rémy-lès-Chevreuse, get off at Saint-Michel - Notre-Dame, then take a short taxi ride or walk to the hotel. The hotel is within walking distance to many Parisian landmarks.\n\n#### Itinerary:\n1. **Morning:** Start your day at the **Notre-Dame Cathedral** (https://www.notredamedeparis.fr/en/), a short walk from your hotel. The cathedral is wheelchair accessible via the rue du Cloître-Notre-Dame entrance. Visual aids and audio descriptions are available upon request.\n   \n2. **Lunch:** Head to **Le Comptoir du Relais** (https://www.comptoir-relais.com/), a wheelchair-accessible bistro near the cathedral. They can accommodate guests with various dietary needs; it's advisable to call ahead to discuss your requirements.\n\n3. **Afternoon:** Visit the **Louvre Museum** (https://www.louvre.fr/en/accessibility), which is fully wheelchair accessible with ramps and elevators. The museum offers adapted restrooms, audio descriptions, and tactile models for visitors with visual impairments. You can rent a wheelchair or borrow one free of charge with a deposit.\n\n4. **Dinner:** Dine at **Le Grand Vefour** (https://www.restaurant-legrandvefour.com/), a historic restaurant that is wheelchair accessible. They offer a sophisticated dining experience and can cater to various dietary needs.\n\n5. **Evening:** End your day with a scenic **Seine River Cruise** (https://www.vedettesdeparis.com/en/). Many cruise operators offer wheelchair-accessible boats. Some also provide visual aids like subtitles or audio descriptions.\n\n#### Accessibility Tips:\n- Ensure to verify the accessibility features of each location before heading out, as changes can occur.\n- Consider purchasing a **Paris Visite** ticket for unlimited travel on public transport and some attractions.\n- For any assistance or to confirm accessibility features, contact the venues directly or reach out to the Paris Tourist Office (https://www.parisinfo.com/).\n\nFor further assistance or to make adjustments to this itinerary, please contact John Doe at john.doe@example.com."
        ],
        [
         "Based on your accessibility needs, I've created a comprehensive travel plan for your trip to Paris on June 20, 2025. Here's your itinerary for Day 1:\n\n**Day 1: June 20, 2025**\n\n### Lodging\nYou will be staying at the **Hotel Le Walt** (Lodging: [Hotel Le Walt](https://www.hotel-lewalt.com/)) which is known for its accessibility features. The hotel has wheelchair-accessible rooms and bathrooms, and the staff is trained to assist guests with disabilities.\n\n- **Booking:** You can book your room through their website or by contacting them directly. Ensure to request a wheelchair-accessible room and any other specific needs you may have. \n  - Booking: [Booking Form](https://www.hotel-lewalt.com/en/booking/)\n- **Directions:** Hotel Le Walt is located at 8 Rue de la Paix, 75009 Paris. \n  - Directions: [Google Maps](https://www.google.com/maps/place/Hotel+Le+Walt/@48.8721083,2.3330673,17z/data=!3m1!4b1!4m9!3m8!1s0x47e66e2964e34e8d:0x6c3c9d593e071eb9!5m2!4m1!1i2!8m2!3d48.8721083!4d2.3356422!16s%2Fg%2F11bw2l6rjr?entry=ttu&g_ep=EgoyMDI0MTIxMS4wIKXMDSoASAFQAw%3D%3D)\n\n### Travel Itinerary\n\n1. **Breakfast**\n   - Start your day with breakfast at **Café des Deux Moulins**, a wheelchair-accessible café near your hotel. They offer a variety of breakfast options and have a friendly staff.\n   - Location: 15 Rue Lepic, 75018 Paris\n   - Directions: [Google Maps](https://www.google.com/maps/place/Caf%C3%A9+des+Deux+Moulins/@48.8848955,2.3340613,17z/data=!3m1!4b1!4m9!3m8!1s0x47e66e2964e3d4f9:0x1c4b4d4200e16cd4!5m2!4m1!1i2!8m2!3d48.8848955!4d2.3366362!16s%2Fg%2F11c6kq6x1f?entry=ttu&g_ep=EgoyMDI0MTIxMS4wIKXMDSoASAFQAw%3D%3D)\n\n2. **Museum Visit**\n   - Head to the **Louvre Museum**, one of Paris's most famous museums. The Louvre is wheelchair accessible, with ramps and elevators available for visitors. \n   - They also offer visual aids and audio descriptions for visitors with visual impairments. Be sure to check their website for more information on accessibility services.\n   - Location: Rue de Rivoli, 75001 Paris\n   - Directions: [Google Maps](https://www.google.com/maps/place/Mus%C3%A9e+du+Louvre/@48.8607633,2.3233684,15z/data=!4m6!3m5!1s0x0:0x88e263d275a8ade5!8m2!3d48.8607633!4d2.3233684!16zL20vMDNfbnM?entry=ttu&g_ep=EgoyMDI0MTIxMS4wIKXMDSoASAFQAw%3D%3D)\n   - Louvre Museum Accessibility: [Louvre Accessibility](https://www.louvre.fr/en/accessibility)\n\n3. **Lunch**\n   - For lunch, visit **Le Comptoir du Relais**, a restaurant that is partially wheelchair accessible. They have a ramp for entry, but it's advisable to call ahead to confirm the accessibility of the facilities.\n   - Location: 9 Carrefour de l'Odéon, 75006 Paris\n   - Directions: [Google Maps](https://www.google.com/maps/place/Le+Comptoir+du+Relais/@48.8504954,2.3367091,17z/data=!3m1!4b1!4m9!3m8!1s0x47e66e1c2d4e8e2d:0x134441d2c640bc0!5m2!4m1!1i2!8m2!3d48.8504954!4d2.339284!16s%2Fg%2F11c3h5h2s7?entry=ttu&g_ep=EgoyMDI0MTIxMS4wIKXMDSoASAFQAw%3D%3D)\n\n4. **Afternoon Stroll**\n   - Take a leisurely stroll along the **Seine River**. Many areas along the Seine are wheelchair accessible, and you can enjoy the city's landmarks while taking in the beautiful views.\n   - You can start at the Pont des Arts and walk towards the Île de la Cité.\n\n5. **Dinner**\n   - For dinner, **Le Grand Vefour** is a historic restaurant that is wheelchair accessible. They have an elevator and a ramp for easier access.\n   - Location: 17 Rue de Beaujolais, 75001 Paris\n   - Directions: [Google Maps](https://www.google.com/maps/place/Le+Grand+Vefour/@48.8641814,2.3368682,17z/data=!3m1!4b1!4m9!3m8!1s0x47e66e1f791d553b:0x144e2b6f5e3e5d0!5m2!4m1!1i2!8m2!3d48.8641814!4d2.3394431!16s%2Fg%2F11cnj_xf_1?entry=ttu&g_ep=EgoyMDI0MTIxMS4wIKXMDSoASAFQAw%3D%3D)\n\n### Accessibility Tips\n- Always check the latest accessibility information on the attraction or restaurant's website before heading out.\n- Consider renting a wheelchair or mobility scooter if needed. Companies like **Mobility in Motion** offer such services.\n- Paris's public transportation system, including the metro, has improved its accessibility. Many stations are equipped with elevators, but it's a good idea to plan your route in advance using resources like the RATP website.\n\n### Contact Information\nFor any last-minute changes or assistance, feel free to contact me through the provided contact information: John Doe, john.doe@example.com.\n\nEnjoy your trip to Paris!"
        ]
       ],
       "datasetInfos": [],
       "dbfsResultPath": null,
       "isJsonSchema": true,
       "metadata": {},
       "overflow": false,
       "plotOptions": {
        "customPlotOptions": {},
        "displayType": "table",
        "pivotAggregation": null,
        "pivotColumns": null,
        "xColumns": null,
        "yColumns": null
       },
       "removedWidgets": [],
       "schema": [
        {
         "metadata": "{}",
         "name": "_1",
         "type": "\"string\""
        }
       ],
       "type": "table"
      }
     },
     "output_type": "display_data"
    }
   ],
   "source": [
    "class TravelAgent:\n",
    "    def __init__(self, accessibility_needs, destination, dates, user_info):\n",
    "        self.accessibility_needs = accessibility_needs\n",
    "        self.destination = destination\n",
    "        self.dates = dates\n",
    "        self.user_info = user_info\n",
    "        self.lodging_info = None\n",
    "\n",
    "    def generate_itinerary_step(self):\n",
    "        return Step(\n",
    "            name=\"Generate Itinerary\",\n",
    "            function=generate_itinerary,\n",
    "            inputs=[self.accessibility_needs, self.destination, self.dates],\n",
    "            system_prompt = \"You are a helpful travel agent. Your task is to generate a travel itinerary for a user with specific accessibility needs. The user may not have specific plans in mind, so prioritize convenience and accessibility while viewing the key attractions of each destination. The user is arriving to {self.destination}. Date Context {self.dates if len(self.dates) > 0 else 'No dates provided'}. Accessibility Needs: {self.accessibility_needs}.\"\n",
    "        )\n",
    "\n",
    "    def find_lodging_step(self):\n",
    "        return Step(\n",
    "            name=\"Find Lodging\",\n",
    "            function=find_lodging,\n",
    "            inputs=[self.accessibility_needs, self.destination, self.dates],\n",
    "            system_prompt = \"You're a helpful travel agent. Your task is to find lodging options in a specific destination for a given date range that meet the user's accessibility needs. Ensure that the lodging has the accomodations necessary for the user, if you cannot meet those requirements, then return 'No lodging with accomodations found'.\"\n",
    "        )\n",
    "\n",
    "    def create_booking_step(self):\n",
    "        return Step(\n",
    "            name=\"Create Booking\",\n",
    "            function=create_booking,\n",
    "            inputs=[self.lodging_info, self.accessibility_needs, self.user_info],\n",
    "            system_prompt = \"Given the lodging information and trip context. Pre-fill the from for the user. Context: {self.lodging_info}; User Information: {self.user_info}.\"\n",
    "        )\n",
    "\n",
    "    def generate_directions_step(self, date):\n",
    "        return Step(\n",
    "            name=\"Generate Directions\",\n",
    "            function=generate_directions,\n",
    "            inputs=[\"Home\", self.destination, self.accessibility_needs, date],\n",
    "            system_prompt = \"Given that the user is going to {self.destination} on {date}, generate detailed, accessible directions from their home to the destination. Allow ample time and include step-by-step accessible options for the following needs: {self.accessibility_needs}.\"\n",
    "        )\n",
    "\n",
    "    def generate_overall_plan_step(self, date):\n",
    "        return Step(\n",
    "            name=\"Generate Overall Plan\",\n",
    "            function=generate_overall_plan,\n",
    "            inputs=[self.accessibility_needs, self.destination, [date], self.user_info],\n",
    "            system_prompt = \"Given the knowledge of the previous steps, combine the following into a comprehensive, accessible travel plan. Ensure accessibility is prioritized throughout. Be as detailed as possible. Provide each date as a separate response, so that way you can maximize the information provided to the user. Provide the location or lodging website URL. Lodging: {self.find_lodging_step().output}, Booking: {self.create_booking_step().output}, Directions: {self.generate_directions_step(date).output}.\"\n",
    "        )\n",
    "\n",
    "    def create_chain(self):\n",
    "        itinerary_step = self.generate_itinerary_step()\n",
    "        itinerary_step.run()\n",
    "        \n",
    "        lodging_step = self.find_lodging_step()\n",
    "        self.lodging_info = lodging_step.run()  # Update lodging_info attribute\n",
    "        \n",
    "        booking_step = self.create_booking_step()\n",
    "        booking_output = booking_step.run()\n",
    "        \n",
    "        overall_plan_output = []\n",
    "        for date in self.dates:\n",
    "            directions_step = self.generate_directions_step(date)\n",
    "            directions_output = directions_step.run()\n",
    "            \n",
    "            overall_plan_step = self.generate_overall_plan_step(date)\n",
    "            day_plan = overall_plan_step.run()\n",
    "            \n",
    "            overall_plan_output.append(day_plan)\n",
    "        \n",
    "        return overall_plan_output\n"
   ]
  },
  {
   "cell_type": "code",
   "execution_count": 0,
   "metadata": {
    "application/vnd.databricks.v1+cell": {
     "cellMetadata": {
      "byteLimit": 2048000,
      "rowLimit": 10000
     },
     "inputWidgets": {},
     "nuid": "2c0f76d1-229a-4335-bd04-3b6ef2d850de",
     "showTitle": false,
     "tableResultSettingsMap": {},
     "title": ""
    }
   },
   "outputs": [],
   "source": [
    "class Step:\n",
    "    def __init__(self, name, function, inputs, system_prompt):\n",
    "        self.name = name\n",
    "        self.function = function\n",
    "        self.inputs = inputs\n",
    "        self.system_prompt = system_prompt\n",
    "        self.output = None\n",
    "        self.input_keys = tuple(inputs)\n",
    "\n",
    "    def run(self):\n",
    "        # Implement the logic to execute the function with inputs\n",
    "        self.output = self.function(*self.inputs)\n",
    "        return self.output\n",
    "\n",
    "class TravelAgent:\n",
    "    def __init__(self, accessibility_needs, destination, dates, user_info):\n",
    "        self.accessibility_needs = accessibility_needs\n",
    "        self.destination = destination\n",
    "        self.dates = dates\n",
    "        self.user_info = user_info\n",
    "        self.lodging_info = None\n",
    "        self.itinerary = []\n",
    "\n",
    "    def generate_itinerary_step(self, date):\n",
    "        return Step(\n",
    "            name=\"Generate Itinerary\",\n",
    "            function=generate_itinerary,\n",
    "            inputs=[self.accessibility_needs, self.destination, [date]],\n",
    "            system_prompt = \"You are a helpful travel agent. Your task is to generate a travel itinerary for a user with specific accessibility needs for the date {date}. The user may not have specific plans in mind, so prioritize convenience and accessibility while viewing the key attractions of each destination. The user is arriving to {self.destination}. Date Context {date}. Accessibility Needs: {self.accessibility_needs}.\"\n",
    "        )\n",
    "\n",
    "    def find_lodging_step(self):\n",
    "        return Step(\n",
    "            name=\"Find Lodging\",\n",
    "            function=find_lodging,\n",
    "            inputs=[self.accessibility_needs, self.destination, self.dates],\n",
    "            system_prompt = \"You're a helpful travel agent. Your task is to find lodging options in a specific destination for a given date range that meet the user's accessibility needs. Ensure that the lodging has the accommodations necessary for the user, if you cannot meet those requirements, then return 'No lodging with accommodations found'.\"\n",
    "        )\n",
    "\n",
    "    def create_booking_step(self):\n",
    "        return Step(\n",
    "            name=\"Create Booking\",\n",
    "            function=create_booking,\n",
    "            inputs=[self.lodging_info, self.accessibility_needs, self.user_info],\n",
    "            system_prompt = \"Given the lodging information and trip context. Pre-fill the form for the user. Context: {self.lodging_info}; User Information: {self.user_info}.\"\n",
    "        )\n",
    "\n",
    "    def generate_directions_step(self, start_location, end_location, date):\n",
    "        return Step(\n",
    "            name=\"Generate Directions\",\n",
    "            function=generate_directions,\n",
    "            inputs=[start_location, end_location, self.accessibility_needs, date],\n",
    "            system_prompt = \"Given that the user is going to {end_location} on {date}, generate detailed, accessible directions from {start_location} to the destination. Allow ample time and include step-by-step accessible options for the following needs: {self.accessibility_needs}.\"\n",
    "        )\n",
    "\n",
    "    def generate_overall_plan_step(self, date, itinerary):\n",
    "        return Step(\n",
    "            name=\"Generate Overall Plan\",\n",
    "            function=generate_overall_plan,\n",
    "            inputs=[self.accessibility_needs, self.destination, [date], self.user_info, itinerary],\n",
    "            system_prompt = \"Given the knowledge of the previous steps, combine the following into a comprehensive, accessible travel plan. Ensure accessibility is prioritized throughout. Be as detailed as possible. Provide each date as a separate response, so that way you can maximize the information provided to the user. Provide the location or lodging website URL. Lodging: {self.find_lodging_step().output}, Booking: {self.create_booking_step().output}, Directions: {self.generate_directions_step(itinerary[i-1] if i > 0 else 'Home', itinerary[i], date).output for i in range(len(itinerary))}.\"\n",
    "        )\n",
    "\n",
    "    def create_chain(self):\n",
    "        lodging_step = self.find_lodging_step()\n",
    "        self.lodging_info = lodging_step.run()  # Update lodging_info attribute\n",
    "        \n",
    "        booking_step = self.create_booking_step()\n",
    "        booking_output = booking_step.run()\n",
    "        \n",
    "        overall_plan_output = []\n",
    "        for date in self.dates:\n",
    "            itinerary_step = self.generate_itinerary_step(date)\n",
    "            itinerary = itinerary_step.run()\n",
    "            self.itinerary.append(itinerary)\n",
    "            \n",
    "            day_plan = []\n",
    "            for i in range(len(itinerary)):\n",
    "                start_location = self.lodging_info if i == 0 else itinerary[i-1]\n",
    "                end_location = itinerary[i]\n",
    "                directions_step = self.generate_directions_step(start_location, end_location, date)\n",
    "                directions_output = directions_step.run()\n",
    "                day_plan.append(directions_output)\n",
    "            \n",
    "            overall_plan_step = self.generate_overall_plan_step(date, itinerary)\n",
    "            day_plan.append(overall_plan_step.run())\n",
    "            \n",
    "            overall_plan_output.append(day_plan)\n",
    "        \n",
    "        return overall_plan_output"
   ]
  },
  {
   "cell_type": "code",
   "execution_count": 0,
   "metadata": {
    "application/vnd.databricks.v1+cell": {
     "cellMetadata": {
      "byteLimit": 2048000,
      "rowLimit": 10000
     },
     "inputWidgets": {},
     "nuid": "8e52ae71-48e9-41fc-8aec-2d38f5664f9c",
     "showTitle": false,
     "tableResultSettingsMap": {},
     "title": ""
    }
   },
   "outputs": [],
   "source": [
    "class TravelAgent:\n",
    "    def __init__(self, accessibility_needs, destination, dates, user_info):\n",
    "        self.accessibility_needs = accessibility_needs\n",
    "        self.destination = destination\n",
    "        self.dates = dates\n",
    "        self.user_info = user_info\n",
    "        self.lodging_info = None\n",
    "        self.high_level_itineraries = []\n",
    "\n",
    "    def generate_itinerary_step(self, date):\n",
    "        return Step(\n",
    "            name=\"Generate Itinerary\",\n",
    "            function=generate_itinerary,\n",
    "            inputs=[self.accessibility_needs, self.destination, [date]],\n",
    "            system_prompt = \"You are a helpful travel agent. Your task is to generate a high-level travel itinerary for a user with specific accessibility needs for the date {date}. The user may not have specific plans in mind, so prioritize convenience and accessibility while viewing the key attractions of each destination. The user is arriving to {self.destination}. Date Context {date}. Accessibility Needs: {self.accessibility_needs}.\"\n",
    "        )\n",
    "\n",
    "    def find_lodging_step(self):\n",
    "        return Step(\n",
    "            name=\"Find Lodging\",\n",
    "            function=find_lodging,\n",
    "            inputs=[self.accessibility_needs, self.destination, self.dates],\n",
    "            system_prompt = \"You're a helpful travel agent. Your task is to find lodging options in a specific destination for a given date range that meet the user's accessibility needs. Ensure that the lodging has the accommodations necessary for the user, if you cannot meet those requirements, then return 'No lodging with accommodations found'.\"\n",
    "        )\n",
    "\n",
    "    def create_booking_step(self):\n",
    "        return Step(\n",
    "            name=\"Create Booking\",\n",
    "            function=create_booking,\n",
    "            inputs=[self.lodging_info, self.accessibility_needs, self.user_info],\n",
    "            system_prompt = \"Given the lodging information and trip context. Pre-fill the form for the user. Context: {self.lodging_info}; User Information: {self.user_info}.\"\n",
    "        )\n",
    "\n",
    "    def generate_directions_step(self, start_location, end_location, date):\n",
    "        return Step(\n",
    "            name=\"Generate Directions\",\n",
    "            function=generate_directions,\n",
    "            inputs=[start_location, end_location, self.accessibility_needs, date],\n",
    "            system_prompt = \"Given that the user is going to {end_location} on {date}, generate detailed, accessible directions from {start_location} to the destination. Allow ample time and include step-by-step accessible options for the following needs: {self.accessibility_needs}.\"\n",
    "        )\n",
    "\n",
    "    def generate_overall_plan_step(self, date, itinerary):\n",
    "        return Step(\n",
    "            name=\"Generate Overall Plan\",\n",
    "            function=generate_overall_plan,\n",
    "            inputs=[self.accessibility_needs, self.destination, [date], self.user_info, itinerary],\n",
    "            system_prompt = \"Given the knowledge of the previous steps, combine the following into a comprehensive, accessible travel plan. Ensure accessibility is prioritized throughout. Be as detailed as possible. Provide each date as a separate response, so that way you can maximize the information provided to the user. Provide the location or lodging website URL. Lodging: {self.find_lodging_step().output}, Booking: {self.create_booking_step().output}, Directions: {self.generate_directions_step(itinerary[0], itinerary[-1], date).output}.\"\n",
    "        )\n",
    "\n",
    "    def create_chain(self):\n",
    "        lodging_step = self.find_lodging_step()\n",
    "        self.lodging_info = lodging_step.run()  # Update lodging_info attribute\n",
    "        \n",
    "        booking_step = self.create_booking_step()\n",
    "        booking_output = booking_step.run()\n",
    "        \n",
    "        # Generate high-level itineraries for each day\n",
    "        for date in self.dates:\n",
    "            itinerary_step = self.generate_itinerary_step(date)\n",
    "            high_level_itinerary = itinerary_step.run()\n",
    "            self.high_level_itineraries.append((date, high_level_itinerary))\n",
    "        \n",
    "        detailed_itineraries = []\n",
    "        for date, high_level_itinerary in self.high_level_itineraries:\n",
    "            # Generate detailed directions for each high-level itinerary\n",
    "            day_directions = []\n",
    "            for i in range(len(high_level_itinerary)):\n",
    "                start_location = self.lodging_info if i == 0 else high_level_itinerary[i-1]\n",
    "                end_location = high_level_itinerary[i]\n",
    "                directions_step = self.generate_directions_step(start_location, end_location, date)\n",
    "                directions_output = directions_step.run()\n",
    "                day_directions.append(directions_output)\n",
    "            # Generate overall plan with detailed directions\n",
    "            overall_plan_step = self.generate_overall_plan_step(date, high_level_itinerary)\n",
    "            day_plan = overall_plan_step.run()\n",
    "            detailed_itineraries.append(day_plan)\n",
    "        \n",
    "        return detailed_itineraries"
   ]
  },
  {
   "cell_type": "code",
   "execution_count": 0,
   "metadata": {
    "application/vnd.databricks.v1+cell": {
     "cellMetadata": {
      "byteLimit": 2048000,
      "rowLimit": 10000
     },
     "inputWidgets": {},
     "nuid": "94b6a95b-39e8-498c-8220-f28dad5cfc54",
     "showTitle": false,
     "tableResultSettingsMap": {},
     "title": ""
    }
   },
   "outputs": [],
   "source": [
    "class TravelAgent:\n",
    "    def __init__(self, accessibility_needs, destination, dates, user_info):\n",
    "        self.accessibility_needs = accessibility_needs\n",
    "        self.destination = destination\n",
    "        self.dates = dates\n",
    "        self.user_info = user_info\n",
    "        self.lodging_info = None\n",
    "        self.high_level_itineraries = []\n",
    "\n",
    "    def generate_itinerary_step(self, date):\n",
    "        return Step(\n",
    "            name=\"Generate Itinerary\",\n",
    "            function=generate_itinerary,\n",
    "            inputs=[self.accessibility_needs, self.destination, [date]],\n",
    "            system_prompt = \"You are a helpful travel agent. Your task is to generate a high-level travel itinerary for a user with specific accessibility needs for the date {date}. The user may not have specific plans in mind, so prioritize convenience and accessibility while viewing the key attractions of each destination. Include 1-2 activities and nearby meal options. The user is arriving to {self.destination}. Date Context {date}. Accessibility Needs: {self.accessibility_needs}.\"\n",
    "        )\n",
    "\n",
    "    def find_lodging_step(self):\n",
    "        return Step(\n",
    "            name=\"Find Lodging\",\n",
    "            function=find_lodging,\n",
    "            inputs=[self.accessibility_needs, self.destination, self.dates],\n",
    "            system_prompt = \"You're a helpful travel agent. Your task is to find lodging options in a specific destination for a given date range that meet the user's accessibility needs. Ensure that the lodging has the accommodations necessary for the user, if you cannot meet those requirements, then return 'No lodging with accommodations found'.\"\n",
    "        )\n",
    "\n",
    "    def create_booking_step(self):\n",
    "        return Step(\n",
    "            name=\"Create Booking\",\n",
    "            function=create_booking,\n",
    "            inputs=[self.lodging_info, self.accessibility_needs, self.user_info],\n",
    "            system_prompt = \"Given the lodging information and trip context. Pre-fill the form for the user. Context: {self.lodging_info}; User Information: {self.user_info}.\"\n",
    "        )\n",
    "\n",
    "    def generate_directions_step(self, start_location, end_location, date):\n",
    "        return Step(\n",
    "            name=\"Generate Directions\",\n",
    "            function=generate_directions,\n",
    "            inputs=[start_location, end_location, self.accessibility_needs, date],\n",
    "            system_prompt = \"Given that the user is going to {end_location} on {date}, generate detailed, accessible directions from {start_location} to the destination. Allow ample time and include step-by-step accessible options for the following needs: {self.accessibility_needs}.\"\n",
    "        )\n",
    "\n",
    "    def generate_overall_plan_step(self, date, itinerary):\n",
    "        return Step(\n",
    "            name=\"Generate Overall Plan\",\n",
    "            function=generate_overall_plan,\n",
    "            inputs=[self.accessibility_needs, self.destination, [date], self.user_info, itinerary],\n",
    "            system_prompt = \"Given the knowledge of the previous steps, combine the following into a comprehensive, accessible travel plan. Ensure accessibility is prioritized throughout. Be as detailed as possible. Provide each date as a separate response, so that way you can maximize the information provided to the user. Provide the location or lodging website URL. Lodging: {self.find_lodging_step().output}, Booking: {self.create_booking_step().output}.\"\n",
    "        )\n",
    "\n",
    "    def create_chain(self):\n",
    "        lodging_step = self.find_lodging_step()\n",
    "        self.lodging_info = lodging_step.run()  # Update lodging_info attribute\n",
    "        \n",
    "        booking_step = self.create_booking_step()\n",
    "        booking_output = booking_step.run()\n",
    "        \n",
    "        # Generate high-level itineraries for each day\n",
    "        for date in self.dates:\n",
    "            itinerary_step = self.generate_itinerary_step(date)\n",
    "            high_level_itinerary = itinerary_step.run()\n",
    "            self.high_level_itineraries.append((date, high_level_itinerary))\n",
    "        \n",
    "        overall_plans = []\n",
    "        for date, high_level_itinerary in self.high_level_itineraries:\n",
    "            overall_plan_step = self.generate_overall_plan_step(date, high_level_itinerary)\n",
    "            day_plan = overall_plan_step.run()\n",
    "            overall_plans.append(day_plan)\n",
    "        \n",
    "        return overall_plans"
   ]
  },
  {
   "cell_type": "code",
   "execution_count": 0,
   "metadata": {
    "application/vnd.databricks.v1+cell": {
     "cellMetadata": {
      "byteLimit": 2048000,
      "rowLimit": 10000
     },
     "inputWidgets": {},
     "nuid": "a2842cb8-a5f4-4141-ab91-4ee63f6b90cd",
     "showTitle": false,
     "tableResultSettingsMap": {},
     "title": ""
    }
   },
   "outputs": [
    {
     "output_type": "display_data",
     "data": {
      "text/plain": [
       "\u001B[0;31m---------------------------------------------------------------------------\u001B[0m\n",
       "\u001B[0;31mTypeError\u001B[0m                                 Traceback (most recent call last)\n",
       "File \u001B[0;32m<command-8300164410613014>, line 8\u001B[0m\n",
       "\u001B[1;32m      5\u001B[0m user_info \u001B[38;5;241m=\u001B[39m {\u001B[38;5;124m\"\u001B[39m\u001B[38;5;124mname\u001B[39m\u001B[38;5;124m\"\u001B[39m: \u001B[38;5;124m\"\u001B[39m\u001B[38;5;124mJohn Doe\u001B[39m\u001B[38;5;124m\"\u001B[39m, \u001B[38;5;124m\"\u001B[39m\u001B[38;5;124mcontact\u001B[39m\u001B[38;5;124m\"\u001B[39m: \u001B[38;5;124m\"\u001B[39m\u001B[38;5;124mjohn.doe@example.com\u001B[39m\u001B[38;5;124m\"\u001B[39m}\n",
       "\u001B[1;32m      7\u001B[0m travel_agent \u001B[38;5;241m=\u001B[39m TravelAgent(accessibility_needs, destination, dates, user_info)\n",
       "\u001B[0;32m----> 8\u001B[0m travel_chain \u001B[38;5;241m=\u001B[39m travel_agent\u001B[38;5;241m.\u001B[39mcreate_chain()\n",
       "\u001B[1;32m      9\u001B[0m display(travel_chain)\n",
       "\n",
       "File \u001B[0;32m<command-4846317734201343>, line 66\u001B[0m, in \u001B[0;36mTravelAgent.create_chain\u001B[0;34m(self)\u001B[0m\n",
       "\u001B[1;32m     64\u001B[0m \u001B[38;5;28;01mfor\u001B[39;00m date, high_level_itinerary \u001B[38;5;129;01min\u001B[39;00m \u001B[38;5;28mself\u001B[39m\u001B[38;5;241m.\u001B[39mhigh_level_itineraries:\n",
       "\u001B[1;32m     65\u001B[0m     overall_plan_step \u001B[38;5;241m=\u001B[39m \u001B[38;5;28mself\u001B[39m\u001B[38;5;241m.\u001B[39mgenerate_overall_plan_step(date, high_level_itinerary)\n",
       "\u001B[0;32m---> 66\u001B[0m     day_plan \u001B[38;5;241m=\u001B[39m overall_plan_step\u001B[38;5;241m.\u001B[39mrun()\n",
       "\u001B[1;32m     67\u001B[0m     overall_plans\u001B[38;5;241m.\u001B[39mappend(day_plan)\n",
       "\u001B[1;32m     69\u001B[0m \u001B[38;5;28;01mreturn\u001B[39;00m overall_plans\n",
       "\n",
       "File \u001B[0;32m<command-4846317734201338>, line 12\u001B[0m, in \u001B[0;36mStep.run\u001B[0;34m(self)\u001B[0m\n",
       "\u001B[1;32m     10\u001B[0m \u001B[38;5;28;01mdef\u001B[39;00m \u001B[38;5;21mrun\u001B[39m(\u001B[38;5;28mself\u001B[39m):\n",
       "\u001B[1;32m     11\u001B[0m     \u001B[38;5;66;03m# Implement the logic to execute the function with inputs\u001B[39;00m\n",
       "\u001B[0;32m---> 12\u001B[0m     \u001B[38;5;28mself\u001B[39m\u001B[38;5;241m.\u001B[39moutput \u001B[38;5;241m=\u001B[39m \u001B[38;5;28mself\u001B[39m\u001B[38;5;241m.\u001B[39mfunction(\u001B[38;5;241m*\u001B[39m\u001B[38;5;28mself\u001B[39m\u001B[38;5;241m.\u001B[39minputs)\n",
       "\u001B[1;32m     13\u001B[0m     \u001B[38;5;28;01mreturn\u001B[39;00m \u001B[38;5;28mself\u001B[39m\u001B[38;5;241m.\u001B[39moutput\n",
       "\n",
       "\u001B[0;31mTypeError\u001B[0m: generate_overall_plan() takes 4 positional arguments but 5 were given"
      ]
     },
     "metadata": {
      "application/vnd.databricks.v1+output": {
       "addedWidgets": {},
       "arguments": {},
       "datasetInfos": [],
       "jupyterProps": {
        "ename": "TypeError",
        "evalue": "generate_overall_plan() takes 4 positional arguments but 5 were given"
       },
       "metadata": {
        "errorSummary": "<span class='ansi-red-fg'>TypeError</span>: generate_overall_plan() takes 4 positional arguments but 5 were given"
       },
       "removedWidgets": [],
       "sqlProps": null,
       "stackFrames": [
        "\u001B[0;31m---------------------------------------------------------------------------\u001B[0m",
        "\u001B[0;31mTypeError\u001B[0m                                 Traceback (most recent call last)",
        "File \u001B[0;32m<command-8300164410613014>, line 8\u001B[0m\n\u001B[1;32m      5\u001B[0m user_info \u001B[38;5;241m=\u001B[39m {\u001B[38;5;124m\"\u001B[39m\u001B[38;5;124mname\u001B[39m\u001B[38;5;124m\"\u001B[39m: \u001B[38;5;124m\"\u001B[39m\u001B[38;5;124mJohn Doe\u001B[39m\u001B[38;5;124m\"\u001B[39m, \u001B[38;5;124m\"\u001B[39m\u001B[38;5;124mcontact\u001B[39m\u001B[38;5;124m\"\u001B[39m: \u001B[38;5;124m\"\u001B[39m\u001B[38;5;124mjohn.doe@example.com\u001B[39m\u001B[38;5;124m\"\u001B[39m}\n\u001B[1;32m      7\u001B[0m travel_agent \u001B[38;5;241m=\u001B[39m TravelAgent(accessibility_needs, destination, dates, user_info)\n\u001B[0;32m----> 8\u001B[0m travel_chain \u001B[38;5;241m=\u001B[39m travel_agent\u001B[38;5;241m.\u001B[39mcreate_chain()\n\u001B[1;32m      9\u001B[0m display(travel_chain)\n",
        "File \u001B[0;32m<command-4846317734201343>, line 66\u001B[0m, in \u001B[0;36mTravelAgent.create_chain\u001B[0;34m(self)\u001B[0m\n\u001B[1;32m     64\u001B[0m \u001B[38;5;28;01mfor\u001B[39;00m date, high_level_itinerary \u001B[38;5;129;01min\u001B[39;00m \u001B[38;5;28mself\u001B[39m\u001B[38;5;241m.\u001B[39mhigh_level_itineraries:\n\u001B[1;32m     65\u001B[0m     overall_plan_step \u001B[38;5;241m=\u001B[39m \u001B[38;5;28mself\u001B[39m\u001B[38;5;241m.\u001B[39mgenerate_overall_plan_step(date, high_level_itinerary)\n\u001B[0;32m---> 66\u001B[0m     day_plan \u001B[38;5;241m=\u001B[39m overall_plan_step\u001B[38;5;241m.\u001B[39mrun()\n\u001B[1;32m     67\u001B[0m     overall_plans\u001B[38;5;241m.\u001B[39mappend(day_plan)\n\u001B[1;32m     69\u001B[0m \u001B[38;5;28;01mreturn\u001B[39;00m overall_plans\n",
        "File \u001B[0;32m<command-4846317734201338>, line 12\u001B[0m, in \u001B[0;36mStep.run\u001B[0;34m(self)\u001B[0m\n\u001B[1;32m     10\u001B[0m \u001B[38;5;28;01mdef\u001B[39;00m \u001B[38;5;21mrun\u001B[39m(\u001B[38;5;28mself\u001B[39m):\n\u001B[1;32m     11\u001B[0m     \u001B[38;5;66;03m# Implement the logic to execute the function with inputs\u001B[39;00m\n\u001B[0;32m---> 12\u001B[0m     \u001B[38;5;28mself\u001B[39m\u001B[38;5;241m.\u001B[39moutput \u001B[38;5;241m=\u001B[39m \u001B[38;5;28mself\u001B[39m\u001B[38;5;241m.\u001B[39mfunction(\u001B[38;5;241m*\u001B[39m\u001B[38;5;28mself\u001B[39m\u001B[38;5;241m.\u001B[39minputs)\n\u001B[1;32m     13\u001B[0m     \u001B[38;5;28;01mreturn\u001B[39;00m \u001B[38;5;28mself\u001B[39m\u001B[38;5;241m.\u001B[39moutput\n",
        "\u001B[0;31mTypeError\u001B[0m: generate_overall_plan() takes 4 positional arguments but 5 were given"
       ],
       "type": "baseError"
      }
     },
     "output_type": "display_data"
    }
   ],
   "source": [
    "# Example usage\n",
    "accessibility_needs = \"wheelchair access, visual aids\"\n",
    "destination = \"Paris\"\n",
    "dates = [\"2025-06-10\", \"2025-06-12\"]\n",
    "user_info = {\"name\": \"John Doe\", \"contact\": \"john.doe@example.com\"}\n",
    "\n",
    "travel_agent = TravelAgent(accessibility_needs, destination, dates, user_info)\n",
    "travel_chain = travel_agent.create_chain()\n",
    "display(travel_chain)"
   ]
  },
  {
   "cell_type": "code",
   "execution_count": 0,
   "metadata": {
    "application/vnd.databricks.v1+cell": {
     "cellMetadata": {},
     "inputWidgets": {},
     "nuid": "1f2b9cbf-f83e-46fd-8705-5a8b89cb9136",
     "showTitle": false,
     "tableResultSettingsMap": {},
     "title": ""
    }
   },
   "outputs": [],
   "source": []
  }
 ],
 "metadata": {
  "application/vnd.databricks.v1+notebook": {
   "computePreferences": null,
   "dashboards": [],
   "environmentMetadata": {
    "base_environment": "",
    "environment_version": "2"
   },
   "inputWidgetPreferences": null,
   "language": "python",
   "notebookMetadata": {
    "pythonIndentUnit": 4
   },
   "notebookName": "Joe Notebook",
   "widgets": {}
  },
  "language_info": {
   "name": "python"
  }
 },
 "nbformat": 4,
 "nbformat_minor": 0
}